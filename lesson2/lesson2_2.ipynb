{
 "cells": [
  {
   "cell_type": "code",
   "execution_count": 1,
   "id": "cb9446b4",
   "metadata": {},
   "outputs": [
    {
     "name": "stdout",
     "output_type": "stream",
     "text": [
      "下午\n"
     ]
    }
   ],
   "source": [
    "# Python 條件判斷和迴圈\n",
    "from datetime import datetime\n",
    "\n",
    "# 取得現在的時間\n",
    "now = datetime.now()\n",
    "\n",
    "# 判斷現在是否為早上（0點到11點59分）\n",
    "if now.hour < 12:\n",
    "    print(\"早上\")\n",
    "else:\n",
    "    print(\"下午\")\n",
    "\n",
    "# 條件判斷\n",
    "\n",
    "# 迴圈\n",
    "# 函數\n",
    "# 類別\n",
    "# "
   ]
  },
  {
   "cell_type": "code",
   "execution_count": 4,
   "id": "503bd78f",
   "metadata": {},
   "outputs": [
    {
     "name": "stdout",
     "output_type": "stream",
     "text": [
      "jenny\n",
      "Nice\n"
     ]
    }
   ],
   "source": [
    "is_nice:bool = True\n",
    "print(\"jenny\")\n",
    "# 單項選擇\n",
    "if is_nice:\n",
    "    print(\"Nice\")"
   ]
  },
  {
   "cell_type": "code",
   "execution_count": 5,
   "id": "3d3ef6c0",
   "metadata": {},
   "outputs": [
    {
     "name": "stdout",
     "output_type": "stream",
     "text": [
      "jenny\n",
      "not good\n"
     ]
    }
   ],
   "source": [
    "is_nice:bool = False\n",
    "print(\"jenny\")\n",
    "# 雙項選擇\n",
    "if is_nice:\n",
    "    print(\"Nice\")\n",
    "else:\n",
    "    print(\"not good\")\n"
   ]
  },
  {
   "cell_type": "code",
   "execution_count": 8,
   "id": "5b4e95e0",
   "metadata": {},
   "outputs": [
    {
     "name": "stdout",
     "output_type": "stream",
     "text": [
      "及格\n"
     ]
    }
   ],
   "source": [
    "scores = 75\n",
    "if scores >= 60:\n",
    "    print(\"及格\")\n",
    "else:\n",
    "    print(\"不及格\")\n"
   ]
  }
 ],
 "metadata": {
  "kernelspec": {
   "display_name": "langchain",
   "language": "python",
   "name": "python3"
  },
  "language_info": {
   "codemirror_mode": {
    "name": "ipython",
    "version": 3
   },
   "file_extension": ".py",
   "mimetype": "text/x-python",
   "name": "python",
   "nbconvert_exporter": "python",
   "pygments_lexer": "ipython3",
   "version": "3.11.13"
  }
 },
 "nbformat": 4,
 "nbformat_minor": 5
}
