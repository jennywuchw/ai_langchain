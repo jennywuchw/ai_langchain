{
 "cells": [
  {
   "cell_type": "code",
   "execution_count": 1,
   "id": "cb9446b4",
   "metadata": {},
   "outputs": [
    {
     "name": "stdout",
     "output_type": "stream",
     "text": [
      "下午\n"
     ]
    }
   ],
   "source": [
    "# Python 條件判斷和迴圈\n",
    "from datetime import datetime\n",
    "\n",
    "# 取得現在的時間\n",
    "now = datetime.now()\n",
    "\n",
    "# 判斷現在是否為早上（0點到11點59分）\n",
    "if now.hour < 12:\n",
    "    print(\"早上\")\n",
    "else:\n",
    "    print(\"下午\")\n",
    "\n",
    "# 條件判斷\n",
    "\n",
    "# 迴圈\n",
    "# 函數\n",
    "# 類別\n",
    "# "
   ]
  },
  {
   "cell_type": "code",
   "execution_count": 4,
   "id": "503bd78f",
   "metadata": {},
   "outputs": [
    {
     "name": "stdout",
     "output_type": "stream",
     "text": [
      "jenny\n",
      "Nice\n"
     ]
    }
   ],
   "source": [
    "is_nice:bool = True\n",
    "print(\"jenny\")\n",
    "# 單項選擇\n",
    "if is_nice:\n",
    "    print(\"Nice\")"
   ]
  },
  {
   "cell_type": "code",
   "execution_count": 5,
   "id": "3d3ef6c0",
   "metadata": {},
   "outputs": [
    {
     "name": "stdout",
     "output_type": "stream",
     "text": [
      "jenny\n",
      "not good\n"
     ]
    }
   ],
   "source": [
    "is_nice:bool = False\n",
    "print(\"jenny\")\n",
    "# 雙項選擇\n",
    "if is_nice:\n",
    "    print(\"Nice\")\n",
    "else:\n",
    "    print(\"not good\")\n"
   ]
  },
  {
   "cell_type": "code",
   "execution_count": 8,
   "id": "5b4e95e0",
   "metadata": {},
   "outputs": [
    {
     "name": "stdout",
     "output_type": "stream",
     "text": [
      "及格\n"
     ]
    }
   ],
   "source": [
    "scores = 75\n",
    "if scores >= 60:\n",
    "    print(\"及格\")\n",
    "else:\n",
    "    print(\"不及格\")\n"
   ]
  },
  {
   "cell_type": "code",
   "execution_count": 9,
   "id": "517c3451",
   "metadata": {},
   "outputs": [
    {
     "name": "stdout",
     "output_type": "stream",
     "text": [
      "良好\n"
     ]
    }
   ],
   "source": [
    "# 成績判斷\n",
    "# 多項選擇\n",
    "# 多項選擇範例：根據分數給予等級\n",
    "# 嚴格得到True的要放在上面\n",
    "score = 85\n",
    "\n",
    "if score >= 90:        # >= 90\n",
    "    print(\"優秀\")\n",
    "elif score >= 80:      # < 90 and >= 80\n",
    "    print(\"良好\")\n",
    "elif score >= 70:      # < 80 and >= 70\n",
    "    print(\"中等\")\n",
    "else:                  # < 70\n",
    "    print(\"需要努力\")\n"
   ]
  }
 ],
 "metadata": {
  "kernelspec": {
   "display_name": "langchain",
   "language": "python",
   "name": "python3"
  },
  "language_info": {
   "codemirror_mode": {
    "name": "ipython",
    "version": 3
   },
   "file_extension": ".py",
   "mimetype": "text/x-python",
   "name": "python",
   "nbconvert_exporter": "python",
   "pygments_lexer": "ipython3",
   "version": "3.11.13"
  }
 },
 "nbformat": 4,
 "nbformat_minor": 5
}
