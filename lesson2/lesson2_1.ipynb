{
 "cells": [
  {
   "cell_type": "markdown",
   "id": "e7cb54ae",
   "metadata": {},
   "source": [
    "### Python 數學運算"
   ]
  },
  {
   "cell_type": "code",
   "execution_count": 10,
   "id": "f4f70099",
   "metadata": {},
   "outputs": [
    {
     "data": {
      "text/plain": [
       "'\\n# 基本語法：變數名稱 = 值\\nname = \"小明\"\\nage = 18\\nheight = 175.5\\nis_student = True\\n'"
      ]
     },
     "execution_count": 10,
     "metadata": {},
     "output_type": "execute_result"
    }
   ],
   "source": [
    "'''\n",
    "# 基本語法：變數名稱 = 值\n",
    "name = \"小明\"\n",
    "age = 18\n",
    "height = 175.5\n",
    "is_student = True\n",
    "'''"
   ]
  },
  {
   "cell_type": "code",
   "execution_count": 2,
   "id": "7ca34f64",
   "metadata": {},
   "outputs": [
    {
     "name": "stdout",
     "output_type": "stream",
     "text": [
      "小明\n",
      "<class 'str'>\n",
      "=============\"\n",
      "18\n",
      "<class 'int'>\n",
      "=============\"\n",
      "175.5\n",
      "<class 'float'>\n",
      "=============\"\n",
      "True\n",
      "<class 'bool'>\n",
      "=============\"\n"
     ]
    }
   ],
   "source": [
    "name = \"小明\"\n",
    "print(name)\n",
    "print(type(name)) #呼叫function\n",
    "print('=============\"')\n",
    "\n",
    "age = 18 \n",
    "print(age)\n",
    "print( type(age))\n",
    "print('=============\"')\n",
    "\n",
    "height = 175.5\n",
    "print(height)\n",
    "print(type(height))\n",
    "print('=============\"')\n",
    "\n",
    "\n",
    "is_student = True\n",
    "print(is_student)\n",
    "print(type(is_student))\n",
    "print('=============\"')\n",
    "\n"
   ]
  },
  {
   "cell_type": "code",
   "execution_count": 10,
   "id": "a56b4d22",
   "metadata": {},
   "outputs": [
    {
     "name": "stdout",
     "output_type": "stream",
     "text": [
      "name變數儲存的值是:小明,資料類型是:<class 'str'>.\n",
      "age變數儲存的值是:18,資料類型是:<class 'int'>.\n"
     ]
    }
   ],
   "source": [
    "print(\"name變數儲存的值是:\",name,\",資料類型是:\",type(name),sep=\"\",end=\".\\n\")\n",
    "print(\"age變數儲存的值是:\",age,\",資料類型是:\",type(age),sep=\"\",end=\".\\n\")"
   ]
  },
  {
   "cell_type": "code",
   "execution_count": 16,
   "id": "611c9d99",
   "metadata": {},
   "outputs": [
    {
     "name": "stdout",
     "output_type": "stream",
     "text": [
      "name變數儲存的值是:小明,資料類型是:<class 'str'>.\n",
      "age變數儲存的值是:18,資料類型是:<class 'int'>.\n"
     ]
    }
   ],
   "source": [
    "#字串插補: f\n",
    "print(f\"name變數儲存的值是:{name},資料類型是:{type(name)}.\")\n",
    "print(f\"age變數儲存的值是:{age},資料類型是:{type(age)}.\")"
   ]
  },
  {
   "cell_type": "code",
   "execution_count": 22,
   "id": "9b044022",
   "metadata": {},
   "outputs": [
    {
     "name": "stdout",
     "output_type": "stream",
     "text": [
      "加法: a + b = 10\n",
      "減法: a - b = 4\n",
      "乘法: a * b = 21\n",
      "除法: a / b = 2.3333333333333335\n",
      "取餘數: a % b = 1\n",
      "次方: a ** b = 343\n"
     ]
    }
   ],
   "source": [
    "# 數學運算範例\n",
    "a = 7\n",
    "b = 3\n",
    "\n",
    "addition = a + b\n",
    "subtraction = a - b\n",
    "multiplication = a * b\n",
    "division = a / b\n",
    "modulus = a % b\n",
    "exponent =  a ** b\n",
    "\n",
    "\n",
    "print(f\"加法: a + b = {addition}\")\n",
    "print(f\"減法: a - b = {subtraction}\")\n",
    "print(f\"乘法: a * b = {multiplication}\")\n",
    "print(f\"除法: a / b = {division}\")\n",
    "print(f\"取餘數: a % b = {modulus}\")\n",
    "print(f\"次方: a ** b = {exponent}\")\n"
   ]
  },
  {
   "cell_type": "markdown",
   "id": "c39823b8",
   "metadata": {},
   "source": []
  }
 ],
 "metadata": {
  "kernelspec": {
   "display_name": "langchain",
   "language": "python",
   "name": "python3"
  },
  "language_info": {
   "codemirror_mode": {
    "name": "ipython",
    "version": 3
   },
   "file_extension": ".py",
   "mimetype": "text/x-python",
   "name": "python",
   "nbconvert_exporter": "python",
   "pygments_lexer": "ipython3",
   "version": "3.11.13"
  }
 },
 "nbformat": 4,
 "nbformat_minor": 5
}
