{
 "cells": [
  {
   "cell_type": "code",
   "execution_count": null,
   "id": "d60dbbde",
   "metadata": {},
   "outputs": [],
   "source": [
    "# 自訂function  (自訂功能)\n",
    "# def名稱(參數1,參數2,)\n",
    "# 呼叫function 名稱(引數值1, 引數值2)"
   ]
  },
  {
   "cell_type": "code",
   "execution_count": null,
   "id": "d307c89c",
   "metadata": {},
   "outputs": [
    {
     "name": "stdout",
     "output_type": "stream",
     "text": [
      "    *    \n",
      "   ***   \n",
      "  *****  \n",
      " ******* \n",
      "*********\n",
      "   |||   \n",
      "   |||   \n"
     ]
    }
   ],
   "source": [
    "# 自訂一個function, 必需列印出聖誕樹, 不使用迴圈, 要有樹葉和樹幹\n",
    "# todo: 實作function 列印聖誕樹\n",
    "def print_christmas_tree_no_loop():\n",
    "    # 這個函式不使用迴圈，直接用print列印出聖誕樹\n",
    "    # 樹葉部分\n",
    "    print(\"    *    \")\n",
    "    print(\"   ***   \")\n",
    "    print(\"  *****  \")\n",
    "    print(\" ******* \")\n",
    "    print(\"*********\")\n",
    "    # 樹幹部分\n",
    "    print(\"   |||   \")\n",
    "    print(\"   |||   \")\n",
    "\n",
    "# 呼叫函式，列印聖誕樹, 沒有參數,引數\n",
    "print_christmas_tree_no_loop()   \n",
    "\n",
    "\n"
   ]
  },
  {
   "cell_type": "code",
   "execution_count": 7,
   "id": "568c4a06",
   "metadata": {},
   "outputs": [
    {
     "name": "stdout",
     "output_type": "stream",
     "text": [
      "    *    \n",
      "   ***   \n",
      "  *****  \n",
      " ******* \n",
      "*********\n",
      "   |||   \n",
      "   |||   \n"
     ]
    }
   ],
   "source": [
    "print_christmas_tree_no_loop()"
   ]
  },
  {
   "cell_type": "code",
   "execution_count": 10,
   "id": "2a4475f6",
   "metadata": {},
   "outputs": [
    {
     "name": "stdout",
     "output_type": "stream",
     "text": [
      "    *\n",
      "   ***\n",
      "  *****\n",
      " *******\n",
      "*********\n"
     ]
    }
   ],
   "source": [
    "# 自訂一個function, 必需列印出聖誕樹, 使用迴圈, 要有樹葉和樹幹\n",
    "# todo: 實作function 列印聖誕樹\n",
    "\n",
    "def print_christmas_tree(height):\n",
    "    for i in range(height):\n",
    "        print(\" \" * (height - i -1) + \"*\" * (2 * i + 1))\n",
    "\n",
    "print_christmas_tree(5)"
   ]
  },
  {
   "cell_type": "code",
   "execution_count": 11,
   "id": "78c7845f",
   "metadata": {},
   "outputs": [
    {
     "name": "stdout",
     "output_type": "stream",
     "text": [
      "      *\n",
      "     ***\n",
      "    *****\n",
      "   *******\n",
      "  *********\n",
      " ***********\n",
      "*************\n",
      "     |||\n",
      "     |||\n"
     ]
    }
   ],
   "source": [
    "# 請同學參考下方範例，完成一個可以自訂高度的聖誕樹函式，樹葉和樹幹都要用迴圈印出來\n",
    "\n",
    "def print_christmas_tree_full(height):\n",
    "    \"\"\"\n",
    "    列印出完整的聖誕樹，包含樹葉和樹幹，樹葉和樹幹都用迴圈產生\n",
    "    :param height: 樹葉的高度（整數）\n",
    "    \"\"\"\n",
    "    # 樹葉部分\n",
    "    for i in range(height):\n",
    "        # 每層前面空格 + 星號\n",
    "        print(\" \" * (height - i - 1) + \"*\" * (2 * i + 1))\n",
    "    # 樹幹部分，這裡樹幹高度設為 height // 3，寬度為3\n",
    "    trunk_height = max(1, height // 3)\n",
    "    trunk_width = 3\n",
    "    trunk_space = height - trunk_width // 2 - 1\n",
    "    for _ in range(trunk_height):\n",
    "        print(\" \" * trunk_space + \"|\" * trunk_width)\n",
    "\n",
    "# 範例：呼叫函式，印出高度為7的聖誕樹\n",
    "print_christmas_tree_full(7)\n"
   ]
  },
  {
   "cell_type": "code",
   "execution_count": null,
   "id": "416ff116",
   "metadata": {},
   "outputs": [
    {
     "name": "stdout",
     "output_type": "stream",
     "text": [
      "圓面積= 346.36\n",
      "圓周長 = 65.97\n"
     ]
    }
   ],
   "source": [
    "# 自訂一個function, 會計算圓面積和圓周長\n",
    "# todo : 實作function \n",
    "\n",
    "import math\n",
    "from turtle import circle\n",
    "\n",
    "def calculate_circle(radius):\n",
    "    #計算圓面積\n",
    "    area = math.pi * radius ** 2\n",
    "    #計算圓周長\n",
    "    circumference = 2 * math.pi * radius\n",
    "    return area, circumference\n",
    "\n",
    "# 呼叫函式, 計算圓面積\n",
    "radius = float(input(\"請輸入半徑\"))  # 半徑\n",
    "area, circumference = calculate_circle(radius)  # 傳出2個值\n",
    "print(f\"圓面積= {area:.2f}\")\n",
    "print(f\"圓周長 = {circumference:.2f}\")\n"
   ]
  },
  {
   "cell_type": "code",
   "execution_count": null,
   "id": "5bba65a2",
   "metadata": {},
   "outputs": [
    {
     "data": {
      "text/plain": [
       "(180, 60)"
      ]
     },
     "execution_count": 15,
     "metadata": {},
     "output_type": "execute_result"
    }
   ],
   "source": [
    "# tuple \n",
    "# (180,60)\n",
    "\n",
    "180,60 "
   ]
  },
  {
   "cell_type": "code",
   "execution_count": 17,
   "id": "2ceb531b",
   "metadata": {},
   "outputs": [
    {
     "name": "stdout",
     "output_type": "stream",
     "text": [
      "178\n",
      "80\n"
     ]
    }
   ],
   "source": [
    "# tuple 的拆解法\n",
    "\n",
    "height, weight = 178, 80\n",
    "print(height)\n",
    "print(weight)"
   ]
  }
 ],
 "metadata": {
  "kernelspec": {
   "display_name": "langchain",
   "language": "python",
   "name": "python3"
  },
  "language_info": {
   "codemirror_mode": {
    "name": "ipython",
    "version": 3
   },
   "file_extension": ".py",
   "mimetype": "text/x-python",
   "name": "python",
   "nbconvert_exporter": "python",
   "pygments_lexer": "ipython3",
   "version": "3.11.13"
  }
 },
 "nbformat": 4,
 "nbformat_minor": 5
}
