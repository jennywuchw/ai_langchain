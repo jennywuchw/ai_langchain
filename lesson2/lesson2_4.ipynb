{
 "cells": [
  {
   "cell_type": "code",
   "execution_count": null,
   "id": "d60dbbde",
   "metadata": {},
   "outputs": [],
   "source": [
    "# 自訂function  (自訂功能)\n",
    "# def名稱(參數1,參數2,)\n",
    "# 呼叫function 名稱(引數值1, 引數值2)"
   ]
  },
  {
   "cell_type": "code",
   "execution_count": null,
   "id": "d307c89c",
   "metadata": {},
   "outputs": [
    {
     "name": "stdout",
     "output_type": "stream",
     "text": [
      "    *    \n",
      "   ***   \n",
      "  *****  \n",
      " ******* \n",
      "*********\n",
      "   |||   \n",
      "   |||   \n"
     ]
    }
   ],
   "source": [
    "# 自訂一個function, 必需列印出聖誕樹, 不使用迴圈, 要有樹葉和樹幹\n",
    "# todo: 實作function 列印聖誕樹\n",
    "def print_christmas_tree_no_loop():\n",
    "    # 這個函式不使用迴圈，直接用print列印出聖誕樹\n",
    "    # 樹葉部分\n",
    "    print(\"    *    \")\n",
    "    print(\"   ***   \")\n",
    "    print(\"  *****  \")\n",
    "    print(\" ******* \")\n",
    "    print(\"*********\")\n",
    "    # 樹幹部分\n",
    "    print(\"   |||   \")\n",
    "    print(\"   |||   \")\n",
    "\n",
    "# 呼叫函式，列印聖誕樹, 沒有參數,引數\n",
    "print_christmas_tree_no_loop()   \n",
    "\n",
    "\n"
   ]
  },
  {
   "cell_type": "code",
   "execution_count": 7,
   "id": "568c4a06",
   "metadata": {},
   "outputs": [
    {
     "name": "stdout",
     "output_type": "stream",
     "text": [
      "    *    \n",
      "   ***   \n",
      "  *****  \n",
      " ******* \n",
      "*********\n",
      "   |||   \n",
      "   |||   \n"
     ]
    }
   ],
   "source": [
    "print_christmas_tree_no_loop()"
   ]
  },
  {
   "cell_type": "code",
   "execution_count": 10,
   "id": "2a4475f6",
   "metadata": {},
   "outputs": [
    {
     "name": "stdout",
     "output_type": "stream",
     "text": [
      "    *\n",
      "   ***\n",
      "  *****\n",
      " *******\n",
      "*********\n"
     ]
    }
   ],
   "source": [
    "# 自訂一個function, 必需列印出聖誕樹, 使用迴圈, 要有樹葉和樹幹\n",
    "# todo: 實作function 列印聖誕樹\n",
    "\n",
    "def print_christmas_tree(height):\n",
    "    for i in range(height):\n",
    "        print(\" \" * (height - i -1) + \"*\" * (2 * i + 1))\n",
    "\n",
    "print_christmas_tree(5)"
   ]
  },
  {
   "cell_type": "code",
   "execution_count": 11,
   "id": "78c7845f",
   "metadata": {},
   "outputs": [
    {
     "name": "stdout",
     "output_type": "stream",
     "text": [
      "      *\n",
      "     ***\n",
      "    *****\n",
      "   *******\n",
      "  *********\n",
      " ***********\n",
      "*************\n",
      "     |||\n",
      "     |||\n"
     ]
    }
   ],
   "source": [
    "# 請同學參考下方範例，完成一個可以自訂高度的聖誕樹函式，樹葉和樹幹都要用迴圈印出來\n",
    "\n",
    "def print_christmas_tree_full(height):\n",
    "    \"\"\"\n",
    "    列印出完整的聖誕樹，包含樹葉和樹幹，樹葉和樹幹都用迴圈產生\n",
    "    :param height: 樹葉的高度（整數）\n",
    "    \"\"\"\n",
    "    # 樹葉部分\n",
    "    for i in range(height):\n",
    "        # 每層前面空格 + 星號\n",
    "        print(\" \" * (height - i - 1) + \"*\" * (2 * i + 1))\n",
    "    # 樹幹部分，這裡樹幹高度設為 height // 3，寬度為3\n",
    "    trunk_height = max(1, height // 3)\n",
    "    trunk_width = 3\n",
    "    trunk_space = height - trunk_width // 2 - 1\n",
    "    for _ in range(trunk_height):\n",
    "        print(\" \" * trunk_space + \"|\" * trunk_width)\n",
    "\n",
    "# 範例：呼叫函式，印出高度為7的聖誕樹\n",
    "print_christmas_tree_full(7)\n"
   ]
  }
 ],
 "metadata": {
  "kernelspec": {
   "display_name": "langchain",
   "language": "python",
   "name": "python3"
  },
  "language_info": {
   "codemirror_mode": {
    "name": "ipython",
    "version": 3
   },
   "file_extension": ".py",
   "mimetype": "text/x-python",
   "name": "python",
   "nbconvert_exporter": "python",
   "pygments_lexer": "ipython3",
   "version": "3.11.13"
  }
 },
 "nbformat": 4,
 "nbformat_minor": 5
}
