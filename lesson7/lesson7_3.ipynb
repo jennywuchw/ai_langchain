{
 "cells": [
  {
   "cell_type": "code",
   "execution_count": 1,
   "id": "2364dd34",
   "metadata": {},
   "outputs": [
    {
     "name": "stdout",
     "output_type": "stream",
     "text": [
      "書籍目錄: /Users/roberthsu2003/Documents/GitHub/__2025_08_30__chihlee_langchain__/lesson7/books\n",
      "持久化目錄: /Users/roberthsu2003/Documents/GitHub/__2025_08_30__chihlee_langchain__/lesson7/db/chroma_db_with_metadata_chinese_nb\n",
      "持久化目錄不存在。正在初始化向量存儲...\n",
      "\n",
      "--- 文件塊資訊 ---\n",
      "文件塊數量: 81\n",
      "\n",
      "--- 正在建立嵌入 ---\n"
     ]
    },
    {
     "name": "stderr",
     "output_type": "stream",
     "text": [
      "/var/folders/7g/kb_wcfhj3710_xnyqdgx_v940000gn/T/ipykernel_13754/2351684797.py:50: LangChainDeprecationWarning: The class `HuggingFaceEmbeddings` was deprecated in LangChain 0.2.2 and will be removed in 1.0. An updated version of the class exists in the :class:`~langchain-huggingface package and should be used instead. To use it run `pip install -U :class:`~langchain-huggingface` and import as `from :class:`~langchain_huggingface import HuggingFaceEmbeddings``.\n",
      "  embeddings = HuggingFaceEmbeddings(\n"
     ]
    },
    {
     "name": "stdout",
     "output_type": "stream",
     "text": [
      "\n",
      "--- 完成建立嵌入 ---\n",
      "\n",
      "--- 正在建立並持久化向量存儲 ---\n",
      "\n",
      "--- 完成建立並持久化向量存儲 ---\n"
     ]
    }
   ],
   "source": [
    "import os\n",
    "from langchain.text_splitter import CharacterTextSplitter\n",
    "from langchain_community.document_loaders import TextLoader\n",
    "from langchain_community.vectorstores import Chroma\n",
    "from langchain_community.embeddings import HuggingFaceEmbeddings\n",
    "\n",
    "# 定義包含文字檔案的目錄和持久化目錄\n",
    "current_dir = os.path.dirname(os.path.abspath(\"__file__\"))\n",
    "books_dir = os.path.join(current_dir, \"books\")\n",
    "db_dir = os.path.join(current_dir, \"db\")\n",
    "persistent_directory = os.path.join(db_dir, \"chroma_db_with_metadata_chinese_nb\")\n",
    "\n",
    "print(f\"書籍目錄: {books_dir}\")\n",
    "print(f\"持久化目錄: {persistent_directory}\")\n",
    "\n",
    "# 檢查 Chroma 向量存儲是否已存在\n",
    "if not os.path.exists(persistent_directory):\n",
    "    print(\"持久化目錄不存在。正在初始化向量存儲...\")\n",
    "\n",
    "    # 確保書籍目錄存在\n",
    "    if not os.path.exists(books_dir):\n",
    "        raise FileNotFoundError(\n",
    "            f\"目錄 {books_dir} 不存在。請檢查路徑。\"\n",
    "        )\n",
    "\n",
    "    # 列出目錄中所有文字檔案\n",
    "    book_files = [f for f in os.listdir(books_dir) if f.endswith(\".txt\")]\n",
    "\n",
    "    # 從每個檔案讀取文字內容並儲存元數據\n",
    "    documents = []\n",
    "    for book_file in book_files:\n",
    "        file_path = os.path.join(books_dir, book_file)\n",
    "        loader = TextLoader(file_path)\n",
    "        book_docs = loader.load()\n",
    "        for doc in book_docs:\n",
    "            # 為每個文件添加元數據以指示其來源\n",
    "            doc.metadata = {\"source\": book_file}\n",
    "            documents.append(doc)\n",
    "\n",
    "    # 將文件分割成塊\n",
    "    text_splitter = CharacterTextSplitter(chunk_size=1000, chunk_overlap=100)\n",
    "    docs = text_splitter.split_documents(documents)\n",
    "\n",
    "    # 顯示分割文件的資訊\n",
    "    print(\"\\n--- 文件塊資訊 ---\")\n",
    "    print(f\"文件塊數量: {len(docs)}\")\n",
    "\n",
    "    # 建立嵌入模型\n",
    "    print(\"\\n--- 正在建立嵌入 ---\")\n",
    "    embeddings = HuggingFaceEmbeddings(\n",
    "        model_name=\"BAAI/bge-m3\"\n",
    "    )\n",
    "    print(\"\\n--- 完成建立嵌入 ---\")\n",
    "\n",
    "    # 建立並持久化向量存儲\n",
    "    print(\"\\n--- 正在建立並持久化向量存儲 ---\")\n",
    "    db = Chroma.from_documents(\n",
    "        docs, embeddings, persist_directory=persistent_directory)\n",
    "    print(\"\\n--- 完成建立並持久化向量存儲 ---\")\n",
    "\n",
    "else:\n",
    "    print(\"向量存儲已存在。無需初始化。\")"
   ]
  }
 ],
 "metadata": {
  "kernelspec": {
   "display_name": ".venv",
   "language": "python",
   "name": "python3"
  },
  "language_info": {
   "codemirror_mode": {
    "name": "ipython",
    "version": 3
   },
   "file_extension": ".py",
   "mimetype": "text/x-python",
   "name": "python",
   "nbconvert_exporter": "python",
   "pygments_lexer": "ipython3",
   "version": "3.10.18"
  }
 },
 "nbformat": 4,
 "nbformat_minor": 5
}
