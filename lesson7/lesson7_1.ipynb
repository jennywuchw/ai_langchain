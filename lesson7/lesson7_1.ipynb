{
 "cells": [
  {
   "cell_type": "code",
   "execution_count": 5,
   "id": "b4e98742",
   "metadata": {},
   "outputs": [
    {
     "name": "stdout",
     "output_type": "stream",
     "text": [
      "c:\\Users\\user\\Documents\\github\\ai_langchain\\lesson7\\books\\智慧型手機使用手冊.txt\n",
      "向量資料庫已經存在,不需要初始化\n"
     ]
    }
   ],
   "source": [
    "import os\n",
    "current_dir = os.path.dirname(os.path.abspath(\"__file__\"))\n",
    "file_path = os.path.join(current_dir,\"books\",\"智慧型手機使用手冊.txt\")\n",
    "persistent_directory = os.path.join(current_dir,\"db\",\"chroma_db_v3\")\n",
    "\n",
    "print(file_path)\n",
    "\n",
    "try:\n",
    "    if os.path.exists(persistent_directory):\n",
    "        if not os.path.exists(file_path):\n",
    "            raise FileNotFoundError(\n",
    "                f\"檔案{file_path}不存在,請檢查路徑\"\n",
    "            )\n",
    "\n",
    "        print(\"檔案正常\")\n",
    "    else:\n",
    "        print(\"向量資料庫已經存在,不需要初始化\")\n",
    "except Exception as error:\n",
    "    print(error)        "
   ]
  },
  {
   "cell_type": "code",
   "execution_count": 9,
   "id": "c399bd95",
   "metadata": {},
   "outputs": [
    {
     "data": {
      "application/vnd.jupyter.widget-view+json": {
       "model_id": "aec0ddad8fe74d6aa3190e0e68644370",
       "version_major": 2,
       "version_minor": 0
      },
      "text/plain": [
       "modules.json:   0%|          | 0.00/349 [00:00<?, ?B/s]"
      ]
     },
     "metadata": {},
     "output_type": "display_data"
    },
    {
     "name": "stderr",
     "output_type": "stream",
     "text": [
      "c:\\Users\\user\\Documents\\github\\ai_langchain\\.venv\\lib\\site-packages\\huggingface_hub\\file_download.py:143: UserWarning: `huggingface_hub` cache-system uses symlinks by default to efficiently store duplicated files but your machine does not support them in C:\\Users\\user\\.cache\\huggingface\\hub\\models--BAAI--bge-m3. Caching files will still work but in a degraded version that might require more space on your disk. This warning can be disabled by setting the `HF_HUB_DISABLE_SYMLINKS_WARNING` environment variable. For more details, see https://huggingface.co/docs/huggingface_hub/how-to-cache#limitations.\n",
      "To support symlinks on Windows, you either need to activate Developer Mode or to run Python as an administrator. In order to activate developer mode, see this article: https://docs.microsoft.com/en-us/windows/apps/get-started/enable-your-device-for-development\n",
      "  warnings.warn(message)\n"
     ]
    },
    {
     "data": {
      "application/vnd.jupyter.widget-view+json": {
       "model_id": "f5b0fddf5dc04d7d8a3708ac63b7bef5",
       "version_major": 2,
       "version_minor": 0
      },
      "text/plain": [
       "config_sentence_transformers.json:   0%|          | 0.00/123 [00:00<?, ?B/s]"
      ]
     },
     "metadata": {},
     "output_type": "display_data"
    },
    {
     "data": {
      "application/vnd.jupyter.widget-view+json": {
       "model_id": "58fac2710e2a42a9a82cce9607f6681c",
       "version_major": 2,
       "version_minor": 0
      },
      "text/plain": [
       "README.md: 0.00B [00:00, ?B/s]"
      ]
     },
     "metadata": {},
     "output_type": "display_data"
    },
    {
     "data": {
      "application/vnd.jupyter.widget-view+json": {
       "model_id": "78933021d874462c89452b3add5296a0",
       "version_major": 2,
       "version_minor": 0
      },
      "text/plain": [
       "sentence_bert_config.json:   0%|          | 0.00/54.0 [00:00<?, ?B/s]"
      ]
     },
     "metadata": {},
     "output_type": "display_data"
    },
    {
     "data": {
      "application/vnd.jupyter.widget-view+json": {
       "model_id": "6934865eea0b41369dc82bce28d250af",
       "version_major": 2,
       "version_minor": 0
      },
      "text/plain": [
       "config.json:   0%|          | 0.00/687 [00:00<?, ?B/s]"
      ]
     },
     "metadata": {},
     "output_type": "display_data"
    },
    {
     "name": "stderr",
     "output_type": "stream",
     "text": [
      "Xet Storage is enabled for this repo, but the 'hf_xet' package is not installed. Falling back to regular HTTP download. For better performance, install the package with: `pip install huggingface_hub[hf_xet]` or `pip install hf_xet`\n"
     ]
    },
    {
     "data": {
      "application/vnd.jupyter.widget-view+json": {
       "model_id": "793e9752199d4ed3bf9f1e0672a15c02",
       "version_major": 2,
       "version_minor": 0
      },
      "text/plain": [
       "pytorch_model.bin:   0%|          | 0.00/2.27G [00:00<?, ?B/s]"
      ]
     },
     "metadata": {},
     "output_type": "display_data"
    },
    {
     "data": {
      "application/vnd.jupyter.widget-view+json": {
       "model_id": "378811c5180c45a8af0812f258c7b604",
       "version_major": 2,
       "version_minor": 0
      },
      "text/plain": [
       "tokenizer_config.json:   0%|          | 0.00/444 [00:00<?, ?B/s]"
      ]
     },
     "metadata": {},
     "output_type": "display_data"
    },
    {
     "name": "stderr",
     "output_type": "stream",
     "text": [
      "Xet Storage is enabled for this repo, but the 'hf_xet' package is not installed. Falling back to regular HTTP download. For better performance, install the package with: `pip install huggingface_hub[hf_xet]` or `pip install hf_xet`\n",
      "Xet Storage is enabled for this repo, but the 'hf_xet' package is not installed. Falling back to regular HTTP download. For better performance, install the package with: `pip install huggingface_hub[hf_xet]` or `pip install hf_xet`\n"
     ]
    },
    {
     "data": {
      "application/vnd.jupyter.widget-view+json": {
       "model_id": "f5a0bc15a81743938842b7fb9cea31f3",
       "version_major": 2,
       "version_minor": 0
      },
      "text/plain": [
       "sentencepiece.bpe.model:   0%|          | 0.00/5.07M [00:00<?, ?B/s]"
      ]
     },
     "metadata": {},
     "output_type": "display_data"
    },
    {
     "data": {
      "application/vnd.jupyter.widget-view+json": {
       "model_id": "d8166d3777b8491d94639c033df2d8b0",
       "version_major": 2,
       "version_minor": 0
      },
      "text/plain": [
       "model.safetensors:   0%|          | 0.00/2.27G [00:00<?, ?B/s]"
      ]
     },
     "metadata": {},
     "output_type": "display_data"
    },
    {
     "name": "stderr",
     "output_type": "stream",
     "text": [
      "Xet Storage is enabled for this repo, but the 'hf_xet' package is not installed. Falling back to regular HTTP download. For better performance, install the package with: `pip install huggingface_hub[hf_xet]` or `pip install hf_xet`\n"
     ]
    },
    {
     "data": {
      "application/vnd.jupyter.widget-view+json": {
       "model_id": "1b87b596606141dd928f0777fee4a8b8",
       "version_major": 2,
       "version_minor": 0
      },
      "text/plain": [
       "tokenizer.json:   0%|          | 0.00/17.1M [00:00<?, ?B/s]"
      ]
     },
     "metadata": {},
     "output_type": "display_data"
    },
    {
     "data": {
      "application/vnd.jupyter.widget-view+json": {
       "model_id": "d4dc2712c06b4bff9e85139fdc0f443a",
       "version_major": 2,
       "version_minor": 0
      },
      "text/plain": [
       "special_tokens_map.json:   0%|          | 0.00/964 [00:00<?, ?B/s]"
      ]
     },
     "metadata": {},
     "output_type": "display_data"
    },
    {
     "data": {
      "application/vnd.jupyter.widget-view+json": {
       "model_id": "b774a6e335da48fb9340e8413d17134c",
       "version_major": 2,
       "version_minor": 0
      },
      "text/plain": [
       "config.json:   0%|          | 0.00/191 [00:00<?, ?B/s]"
      ]
     },
     "metadata": {},
     "output_type": "display_data"
    }
   ],
   "source": [
    "import os\n",
    "from langchain_community.document_loaders import TextLoader\n",
    "from langchain.text_splitter import CharacterTextSplitter\n",
    "from langchain_huggingface import HuggingFaceEmbeddings\n",
    "from langchain_chroma import Chroma\n",
    "import chromadb\n",
    "\n",
    "current_dir = os.path.dirname(os.path.abspath(\"__file__\"))\n",
    "file_path = os.path.join(current_dir, \"books\", \"智慧型手機使用手冊.txt\")\n",
    "persistent_directory = os.path.join(current_dir, \"db\", \"chroma_db_v3\")\n",
    "try:\n",
    "    if not os.path.exists(persistent_directory):\n",
    "        if not os.path.exists(file_path):\n",
    "            raise FileNotFoundError(\n",
    "                f\"檔案{file_path}不存在,請檢查路徑\"\n",
    "            )\n",
    "\n",
    "        loader = TextLoader(file_path=file_path,encoding=\"utf-8\")\n",
    "        documents = loader.load()\n",
    "        text_splitter = CharacterTextSplitter(chunk_size=500, chunk_overlap=200)\n",
    "        docs = text_splitter.split_documents(documents)\n",
    "        #print(len(docs))\n",
    "        #print(docs[0].page_content)\n",
    "        embeddings = HuggingFaceEmbeddings(\n",
    "            model_name=\"BAAI/bge-m3\"\n",
    "        )\n",
    "\n",
    "        client = chromadb.PersistentClient(path=persistent_directory)\n",
    "        db = Chroma.from_documents(\n",
    "            docs,\n",
    "            embedding=embeddings,\n",
    "            client = client,            \n",
    "            collection_name=\"smartphone_manual\"\n",
    "        )\n",
    "\n",
    "\n",
    "\n",
    "\n",
    "    else:\n",
    "        print(\"向量資料庫已經存在,不需要初始化\")\n",
    "except Exception as error:\n",
    "    print(error)"
   ]
  },
  {
   "cell_type": "code",
   "execution_count": null,
   "id": "eddf123f",
   "metadata": {},
   "outputs": [
    {
     "name": "stdout",
     "output_type": "stream",
     "text": [
      "8.4 聯絡客服\n",
      "客服管道:\n",
      "- 客服專線:0800-123-456(週一至週日 9:00-21:00)\n",
      "- 線上客服:官網即時聊天\n",
      "- 電子郵件:support@example.com\n",
      "- 服務中心:請至官網查詢鄰近服務中心地址\n",
      "\n",
      "送修前準備:\n",
      "1. 備份所有資料\n",
      "2. 移除 SIM 卡與記憶卡\n",
      "3. 準備購買證明(發票或收據)\n",
      "4. 記錄故障現象與發生時間\n",
      "\n",
      "規格總覽\n",
      "\n",
      "硬體規格:\n",
      "- 處理器:Snapdragon 8 Gen 2 / Apple A17 Pro\n",
      "- 記憶體:8GB/12GB RAM\n",
      "- 儲存空間:128GB/256GB/512GB\n",
      "- 螢幕:6.7\" AMOLED,120Hz\n",
      "- 電池:5000mAh\n",
      "- 重量:195g\n",
      "- 尺寸:163.1 x 75.5 x 8.2 mm\n",
      "\n",
      "相機:\n",
      "- 後置:50MP + 12MP + 8MP\n",
      "- 前置:32MP\n",
      "\n",
      "連線:\n",
      "- 5G、4G LTE\n",
      "- Wi-Fi 6、藍牙 5.3\n",
      "- NFC、GPS\n",
      "- USB-C\n",
      "\n",
      "作業系統:\n",
      "- Android 14 或 iOS 17\n",
      "- 承諾 4 年系統更新\n",
      "- 5 年安全性更新\n",
      "============================================================\n",
      "相機:\n",
      "- 後置:50MP + 12MP + 8MP\n",
      "- 前置:32MP\n",
      "\n",
      "連線:\n",
      "- 5G、4G LTE\n",
      "- Wi-Fi 6、藍牙 5.3\n",
      "- NFC、GPS\n",
      "- USB-C\n",
      "\n",
      "作業系統:\n",
      "- Android 14 或 iOS 17\n",
      "- 承諾 4 年系統更新\n",
      "- 5 年安全性更新\n",
      "\n",
      "包裝內容物:\n",
      "- 手機主機\n",
      "- USB-C 充電線\n",
      "- 65W 充電器\n",
      "- SIM 卡退卡針\n",
      "- 透明保護殼\n",
      "- 使用手冊\n",
      "- 保固卡\n",
      "\n",
      "本手冊為簡化版,完整功能說明請參考官方網站或聯絡客服。\n",
      "============================================================\n",
      "3.2 相機進階功能\n",
      "AI 場景辨識:\n",
      "自動識別 20+ 種場景(美食、風景、人物、寵物等)並優化參數\n",
      "\n",
      "HDR(高動態範圍):\n",
      "同時拍攝多張不同曝光的照片並合成,保留更多亮部與暗部細節\n",
      "\n",
      "夜景模式使用技巧:\n",
      "1. 在光線不足環境下,相機會自動建議使用夜景模式\n",
      "2. 保持手機穩定 3-5 秒\n",
      "3. 手機會自動拍攝多張照片並合成\n",
      "4. 避免手震可使用腳架或穩定支撐\n",
      "\n",
      "3.3 錄影功能\n",
      "支援解析度:\n",
      "- 4K @ 60fps\n",
      "- 1080p @ 30/60/120fps\n",
      "- 720p @ 30fps\n",
      "\n",
      "錄影特色功能:\n",
      "- 即時美顏錄影\n",
      "- 電影模式(淺景深效果)\n",
      "- 縮時攝影\n",
      "- 慢動作錄影\n",
      "- 超穩定防震技術\n",
      "\n",
      "第四章:電池與充電\n",
      "\n",
      "4.1 電池規格\n",
      "電池容量:5000mAh\n",
      "正常使用續航力:\n",
      "- 通話時間:最長 28 小時\n",
      "- 影片播放:最長 18 小時\n",
      "- 網頁瀏覽:最長 16 小時\n",
      "- 待機時間:最長 450 小時\n",
      "\n",
      "4.2 充電方式\n",
      "有線充電:\n",
      "- 支援 65W 快速充電\n",
      "- 30 分鐘可充至 70%\n",
      "- 完整充電約 45 分鐘\n",
      "- 建議使用原廠充電器\n",
      "============================================================\n"
     ]
    }
   ],
   "source": [
    "query = \"請問手機硬體規格如何?\"\n",
    "retriever = db.as_retriever(\n",
    "    search_type=\"similarity\",\n",
    "    search_kwargs={\"k\": 3}\n",
    ")\n",
    "\n",
    "relevant_docs = retriever.invoke(query)\n",
    "for doc in relevant_docs:\n",
    "    print(doc.page_content)\n",
    "    print(\"=\" * 60)"
   ]
  }
 ],
 "metadata": {
  "kernelspec": {
   "display_name": ".venv",
   "language": "python",
   "name": "python3"
  },
  "language_info": {
   "codemirror_mode": {
    "name": "ipython",
    "version": 3
   },
   "file_extension": ".py",
   "mimetype": "text/x-python",
   "name": "python",
   "nbconvert_exporter": "python",
   "pygments_lexer": "ipython3",
   "version": "3.10.19"
  }
 },
 "nbformat": 4,
 "nbformat_minor": 5
}
