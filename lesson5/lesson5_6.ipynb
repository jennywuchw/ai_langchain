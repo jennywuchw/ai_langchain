{
 "cells": [
  {
   "cell_type": "code",
   "execution_count": null,
   "id": "53d6828d",
   "metadata": {},
   "outputs": [
    {
     "name": "stdout",
     "output_type": "stream",
     "text": [
      "=== 多變數複雜模板範例 ===\n",
      "使用模型: gemma3:1b\n",
      "=== 基本 Prompt Template 範例 ===\n",
      "\n",
      "你是一位專業的繁體中文翻譯家，具有豐富的語言學背景。\n",
      "請將使用者提供的以下英文句子翻譯成流暢、自然的繁體中文。\n",
      "\n",
      "英文句子：What day is today?\n",
      "繁體中文翻譯：\n",
      "\n",
      "\n",
      "==================================================\n",
      "Ollama gemma3:1b模型回應\n",
      "以下是一些翻譯選項，根據不同的語氣和細節，您可以選擇最適合的：\n",
      "\n",
      "**選項一 (較正式)：**\n",
      "\n",
      "「今日是什麼日子？」\n",
      "\n",
      "**選項二 (較口語化)：**\n",
      "\n",
      "「今日幾號？」\n",
      "\n",
      "**選項三 (更強調詢問)：**\n",
      "\n",
      "「你今天有什麼日子？」\n",
      "\n",
      "**選項四 (更強調「今天」這個時間點)：**\n",
      "\n",
      "「今天是什麼時候？」\n",
      "\n",
      "**我個人比較推薦選項二 (較口語化)，因為它更貼近日常對話的語境。**\n",
      "\n",
      "希望這些選項能對您有幫助！\n"
     ]
    }
   ],
   "source": [
    "from langchain_ollama import OllamaLLM\n",
    "\n",
    "model = OllamaLLM(model=\"gemma3:1b\")\n",
    "print(\"=== 多變數複雜模板範例 ===\")\n",
    "print(f\"使用模型: gemma3:1b\")\n",
    "\n",
    "\n",
    "# 1. 基本 Prompt Template 使用\n",
    "from langchain.prompts import PromptTemplate\n",
    "\n",
    "# 建立翻譯模板\n",
    "template_text = \"\"\"\n",
    "你是一位專業的繁體中文翻譯家，具有豐富的語言學背景。\n",
    "請將使用者提供的以下英文句子翻譯成流暢、自然的繁體中文。\n",
    "\n",
    "英文句子：{english_sentence}\n",
    "繁體中文翻譯：\n",
    "\"\"\"\n",
    "\n",
    "# 建立 Prompt Template 實體\n",
    "prompt_template = PromptTemplate(\n",
    "    input_variables=[\"english_sentence\"],\n",
    "    template=template_text\n",
    ")\n",
    "\n",
    "# 使用模板\n",
    "formatted_prompt = prompt_template.format(english_sentence=\"What day is today?\")\n",
    "print(\"=== 基本 Prompt Template 範例 ===\")\n",
    "print(formatted_prompt)\n",
    "print(\"\\n\" + \"=\" * 50)\n",
    "print(\"Ollama gemma3:1b模型回應\")\n",
    "\n",
    "response = model.invoke(formatted_prompt)\n",
    "print(response)\n",
    "\n"
   ]
  }
 ],
 "metadata": {
  "kernelspec": {
   "display_name": ".venv",
   "language": "python",
   "name": "python3"
  },
  "language_info": {
   "codemirror_mode": {
    "name": "ipython",
    "version": 3
   },
   "file_extension": ".py",
   "mimetype": "text/x-python",
   "name": "python",
   "nbconvert_exporter": "python",
   "pygments_lexer": "ipython3",
   "version": "3.10.18"
  }
 },
 "nbformat": 4,
 "nbformat_minor": 5
}
