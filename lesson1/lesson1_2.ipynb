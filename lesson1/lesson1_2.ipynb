{
 "cells": [
  {
   "cell_type": "markdown",
   "id": "9d2e4edc",
   "metadata": {},
   "source": [
    "### 這是langchain的課程"
   ]
  },
  {
   "cell_type": "code",
   "execution_count": 1,
   "id": "2f573cb4",
   "metadata": {},
   "outputs": [
    {
     "name": "stdout",
     "output_type": "stream",
     "text": [
      "hello,world\n"
     ]
    }
   ],
   "source": [
    "print(\"hello,world\")\n"
   ]
  }
 ],
 "metadata": {
  "kernelspec": {
   "display_name": "langchain",
   "language": "python",
   "name": "python3"
  },
  "language_info": {
   "codemirror_mode": {
    "name": "ipython",
    "version": 3
   },
   "file_extension": ".py",
   "mimetype": "text/x-python",
   "name": "python",
   "nbconvert_exporter": "python",
   "pygments_lexer": "ipython3",
   "version": "3.11.13"
  }
 },
 "nbformat": 4,
 "nbformat_minor": 5
}
