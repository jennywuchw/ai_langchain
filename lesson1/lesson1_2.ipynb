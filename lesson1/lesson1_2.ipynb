{
 "cells": [
  {
   "cell_type": "markdown",
   "id": "9d2e4edc",
   "metadata": {},
   "source": [
    "### 這是langchain的課程"
   ]
  },
  {
   "cell_type": "code",
   "execution_count": 1,
   "id": "2f573cb4",
   "metadata": {},
   "outputs": [
    {
     "name": "stdout",
     "output_type": "stream",
     "text": [
      "hello,world\n"
     ]
    }
   ],
   "source": [
    "print(\"hello,world\")\n"
   ]
  },
  {
   "cell_type": "code",
   "execution_count": 3,
   "id": "3e1afd93",
   "metadata": {},
   "outputs": [
    {
     "name": "stdout",
     "output_type": "stream",
     "text": [
      "my_int: 10 型別: <class 'int'>\n",
      "my_float: 3.14 型別: <class 'float'>\n",
      "my_str: 你好，LangChain! 型別: <class 'str'>\n",
      "my_bool: True 型別: <class 'bool'>\n"
     ]
    }
   ],
   "source": [
    "# 建立不同型別的變數，讓大家了解 int, float, str, bool 的用法\n",
    "\n",
    "my_int = 10            # 整數 (int)\n",
    "my_float = 3.14        # 浮點數 (float)\n",
    "my_str = \"你好，LangChain!\"  # 字串 (str)\n",
    "my_bool = True         # 布林值 (bool)\n",
    "\n",
    "# 印出每個變數的內容與型別\n",
    "print(\"my_int:\", my_int, \"型別:\", type(my_int))\n",
    "print(\"my_float:\", my_float, \"型別:\", type(my_float))\n",
    "print(\"my_str:\", my_str, \"型別:\", type(my_str))\n",
    "print(\"my_bool:\", my_bool, \"型別:\", type(my_bool))\n"
   ]
  }
 ],
 "metadata": {
  "kernelspec": {
   "display_name": "langchain",
   "language": "python",
   "name": "python3"
  },
  "language_info": {
   "codemirror_mode": {
    "name": "ipython",
    "version": 3
   },
   "file_extension": ".py",
   "mimetype": "text/x-python",
   "name": "python",
   "nbconvert_exporter": "python",
   "pygments_lexer": "ipython3",
   "version": "3.11.13"
  }
 },
 "nbformat": 4,
 "nbformat_minor": 5
}
