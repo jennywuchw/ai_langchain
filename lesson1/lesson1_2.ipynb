{
 "cells": [
  {
   "cell_type": "markdown",
   "id": "9d2e4edc",
   "metadata": {},
   "source": [
    "### 這是langchain的課程"
   ]
  },
  {
   "cell_type": "code",
   "execution_count": 1,
   "id": "2f573cb4",
   "metadata": {},
   "outputs": [
    {
     "name": "stdout",
     "output_type": "stream",
     "text": [
      "hello,world\n"
     ]
    }
   ],
   "source": [
    "print(\"hello,world\")\n"
   ]
  },
  {
   "cell_type": "code",
   "execution_count": 3,
   "id": "3e1afd93",
   "metadata": {},
   "outputs": [
    {
     "name": "stdout",
     "output_type": "stream",
     "text": [
      "my_int: 10 型別: <class 'int'>\n",
      "my_float: 3.14 型別: <class 'float'>\n",
      "my_str: 你好，LangChain! 型別: <class 'str'>\n",
      "my_bool: True 型別: <class 'bool'>\n"
     ]
    }
   ],
   "source": [
    "# 建立不同型別的變數，讓大家了解 int, float, str, bool 的用法\n",
    "\n",
    "my_int = 10            # 整數 (int)\n",
    "my_float = 3.14        # 浮點數 (float)\n",
    "my_str = \"你好，LangChain!\"  # 字串 (str)\n",
    "my_bool = True         # 布林值 (bool)\n",
    "\n",
    "# 印出每個變數的內容與型別\n",
    "print(\"my_int:\", my_int, \"型別:\", type(my_int))\n",
    "print(\"my_float:\", my_float, \"型別:\", type(my_float))\n",
    "print(\"my_str:\", my_str, \"型別:\", type(my_str))\n",
    "print(\"my_bool:\", my_bool, \"型別:\", type(my_bool))\n"
   ]
  },
  {
   "cell_type": "code",
   "execution_count": 4,
   "id": "21ae9553",
   "metadata": {},
   "outputs": [
    {
     "name": "stdout",
     "output_type": "stream",
     "text": [
      "num_students: 30 型別: <class 'int'>\n",
      "average_score: 87.5 型別: <class 'float'>\n",
      "course_name: LangChain入門 型別: <class 'str'>\n",
      "is_open: False 型別: <class 'bool'>\n",
      "總分(total_score): 2625.0\n",
      "一半學生人數(half_students): 15\n",
      "平均分數加10(score_plus_ten): 97.5\n",
      "平均分數除以2(score_divide_two): 43.75\n"
     ]
    }
   ],
   "source": [
    "# 建立幾個不同型別的變數，幫助大家了解 int, float, str, bool 的用法\n",
    "\n",
    "num_students = 30            # int，學生人數\n",
    "average_score = 87.5         # float，平均分數\n",
    "course_name = \"LangChain入門\" # str，課程名稱\n",
    "is_open = False              # bool，課程是否開放\n",
    "\n",
    "# 印出每個變數的內容與型別\n",
    "print(\"num_students:\", num_students, \"型別:\", type(num_students))\n",
    "print(\"average_score:\", average_score, \"型別:\", type(average_score))\n",
    "print(\"course_name:\", course_name, \"型別:\", type(course_name))\n",
    "print(\"is_open:\", is_open, \"型別:\", type(is_open))\n",
    "\n",
    "# 進行幾個數學運算\n",
    "total_score = num_students * average_score   # 總分\n",
    "half_students = num_students // 2            # 一半的學生人數（整數除法）\n",
    "score_plus_ten = average_score + 10          # 平均分數加10\n",
    "score_divide_two = average_score / 2         # 平均分數除以2\n",
    "\n",
    "print(\"總分(total_score):\", total_score)\n",
    "print(\"一半學生人數(half_students):\", half_students)\n",
    "print(\"平均分數加10(score_plus_ten):\", score_plus_ten)\n",
    "print(\"平均分數除以2(score_divide_two):\", score_divide_two)\n",
    "\n"
   ]
  }
 ],
 "metadata": {
  "kernelspec": {
   "display_name": "langchain",
   "language": "python",
   "name": "python3"
  },
  "language_info": {
   "codemirror_mode": {
    "name": "ipython",
    "version": 3
   },
   "file_extension": ".py",
   "mimetype": "text/x-python",
   "name": "python",
   "nbconvert_exporter": "python",
   "pygments_lexer": "ipython3",
   "version": "3.11.13"
  }
 },
 "nbformat": 4,
 "nbformat_minor": 5
}
