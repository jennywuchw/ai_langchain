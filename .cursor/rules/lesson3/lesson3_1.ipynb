{
 "cells": [
  {
   "cell_type": "code",
   "execution_count": 1,
   "id": "043f787f",
   "metadata": {},
   "outputs": [
    {
     "name": "stdout",
     "output_type": "stream",
     "text": [
      "現在時間：2025-09-13 10:09:46.830051\n",
      "隨機整數：41\n",
      "目前工作目錄：c:\\Users\\user\\Documents\\Git\\ai_langchain\\.cursor\\rules\\lesson3\n"
     ]
    }
   ],
   "source": [
    "## 用Python內建標準函式庫，建立範例，包含 datetime、random、os\n",
    "\n",
    "import datetime\n",
    "import random\n",
    "import os\n",
    "\n",
    "# 取得現在的日期與時間\n",
    "now = datetime.datetime.now()\n",
    "print(f\"現在時間：{now}\")\n",
    "\n",
    "# 產生一個 1 到 100 之間的隨機整數\n",
    "rand_num = random.randint(1, 100)\n",
    "print(f\"隨機整數：{rand_num}\")\n",
    "\n",
    "# 取得目前的工作目錄\n",
    "current_dir = os.getcwd()\n",
    "print(f\"目前工作目錄：{current_dir}\")"
   ]
  },
  {
   "cell_type": "markdown",
   "id": "bd5600f4",
   "metadata": {},
   "source": [
    "\n",
    "### 利用Python的外部套件 requests，說明外部套件的安裝與使用\n",
    "\n",
    "### 安裝 requests 套件\n",
    "在終端機（Terminal）或 Jupyter Notebook 輸入以下指令安裝：\n",
    "\n",
    "### 建立 requests 套件的範例\n",
    "\n",
    "\n",
    "\n"
   ]
  },
  {
   "cell_type": "code",
   "execution_count": null,
   "id": "d9756ed6",
   "metadata": {},
   "outputs": [
    {
     "name": "stdout",
     "output_type": "stream",
     "text": [
      "成功取得網頁內容！\n",
      "<!doctype html><html itemscope=\"\" itemtype=\"http://schema.org/WebPage\" lang=\"zh-TW\"><head><meta content=\"text/html; charset=UTF-8\" http-equiv=\"Content-Type\"><meta content=\"/images/branding/googleg/1x/googleg_standard_color_128dp.png\" itemprop=\"image\"><title>Google</title><script nonce=\"rvq1jL7a61CsjoHEZvcSeA\">(function(){var _g={kEI:'2dXEaOuyHqDc1e8P29aI2AM',kEXPI:'0,18167,184687,2,52,14,3800588,236535,48791,30022,6397,9708,344796,290044,5242138,105,94,36811987,25228681,117307,20961,14126,22902,\n"
     ]
    }
   ],
   "source": [
    "# 使用 requests 套件來發送 HTTP 請求，取得網頁內容\n",
    "\n",
    "import requests  # pyright: ignore[reportMissingModuleSource]\n",
    "\n",
    "# 目標網址\n",
    "url = \"https://www.google.com\"\n",
    "\n",
    "# 發送 GET 請求\n",
    "response = requests.get(url)\n",
    "\n",
    "# 檢查回應狀態碼\n",
    "if response.status_code == 200:\n",
    "    print(\"成功取得網頁內容！\")\n",
    "    # 顯示部分網頁內容\n",
    "    print(response.text[:500])  # 只顯示前 500 個字元\n",
    "else:\n",
    "    print(f\"取得網頁失敗，狀態碼：{response.status_code}\")\n"
   ]
  },
  {
   "cell_type": "code",
   "execution_count": null,
   "id": "5e3f00f6",
   "metadata": {},
   "outputs": [
    {
     "name": "stdout",
     "output_type": "stream",
     "text": [
      "回應的狀態碼： 200\n",
      "回應的前100個字元： <!doctype html><html itemscope=\"\" itemtype=\"http://schema.org/WebPage\" lang=\"zh-TW\"><head><meta cont\n"
     ]
    }
   ],
   "source": [
    "\n",
    "import requests  # pyright: ignore[reportMissingModuleSource]\n",
    "\n",
    "response = requests.get(\"https://www.google.com\")\n",
    "print(\"回應的狀態碼：\", response.status_code)\n",
    "print(\"回應的前100個字元：\", response.text[:100])"
   ]
  }
 ],
 "metadata": {
  "kernelspec": {
   "display_name": "base",
   "language": "python",
   "name": "python3"
  },
  "language_info": {
   "codemirror_mode": {
    "name": "ipython",
    "version": 3
   },
   "file_extension": ".py",
   "mimetype": "text/x-python",
   "name": "python",
   "nbconvert_exporter": "python",
   "pygments_lexer": "ipython3",
   "version": "3.13.5"
  }
 },
 "nbformat": 4,
 "nbformat_minor": 5
}
