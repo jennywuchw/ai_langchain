{
 "cells": [
  {
   "cell_type": "code",
   "execution_count": 1,
   "id": "043f787f",
   "metadata": {},
   "outputs": [
    {
     "name": "stdout",
     "output_type": "stream",
     "text": [
      "現在時間：2025-09-13 10:09:46.830051\n",
      "隨機整數：41\n",
      "目前工作目錄：c:\\Users\\user\\Documents\\Git\\ai_langchain\\.cursor\\rules\\lesson3\n"
     ]
    }
   ],
   "source": [
    "## 用Python內建標準函式庫，建立範例，包含 datetime、random、os\n",
    "\n",
    "import datetime\n",
    "import random\n",
    "import os\n",
    "\n",
    "# 取得現在的日期與時間\n",
    "now = datetime.datetime.now()\n",
    "print(f\"現在時間：{now}\")\n",
    "\n",
    "# 產生一個 1 到 100 之間的隨機整數\n",
    "rand_num = random.randint(1, 100)\n",
    "print(f\"隨機整數：{rand_num}\")\n",
    "\n",
    "# 取得目前的工作目錄\n",
    "current_dir = os.getcwd()\n",
    "print(f\"目前工作目錄：{current_dir}\")"
   ]
  }
 ],
 "metadata": {
  "kernelspec": {
   "display_name": "base",
   "language": "python",
   "name": "python3"
  },
  "language_info": {
   "codemirror_mode": {
    "name": "ipython",
    "version": 3
   },
   "file_extension": ".py",
   "mimetype": "text/x-python",
   "name": "python",
   "nbconvert_exporter": "python",
   "pygments_lexer": "ipython3",
   "version": "3.13.5"
  }
 },
 "nbformat": 4,
 "nbformat_minor": 5
}
