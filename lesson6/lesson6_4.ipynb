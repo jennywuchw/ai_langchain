{
 "cells": [
  {
   "cell_type": "code",
   "execution_count": 64,
   "id": "9f5010d6",
   "metadata": {},
   "outputs": [],
   "source": [
    "from langchain.prompts import ChatPromptTemplate\n",
    "from langchain.schema.output_parser import StrOutputParser\n",
    "from langchain_ollama.llms import OllamaLLM\n",
    "from langchain.schema.runnable import RunnableLambda\n",
    "\n",
    "#model = OllamaLLM(model=\"llama3.2:latest\")\n",
    "model = OllamaLLM(model=\"gpt-oss:20b\")\n"
   ]
  },
  {
   "cell_type": "code",
   "execution_count": 65,
   "id": "328204f1",
   "metadata": {},
   "outputs": [],
   "source": [
    "prompt_template = ChatPromptTemplate.from_messages([\n",
    "    (\"system\",\"你是一個專業的客服代表，負責回覆客戶郵件。請用友善和專業的語調回覆。請不要回覆(公司的資訊和結尾詞),我會自已手動增加\"),\n",
    "    (\"human\",\"請回覆這封客戶郵件：\\n\\n{email_content}\")\n",
    "])"
   ]
  },
  {
   "cell_type": "code",
   "execution_count": 66,
   "id": "f161a77d",
   "metadata": {},
   "outputs": [],
   "source": [
    "def format_email_reply(ai_answer:str) -> str:\n",
    "    import datetime\n",
    "    date_str = datetime.datetime.now().strftime(\"中華民國,西元%Y-%m-%d %H:%M\")\n",
    "    formatted_reply = f\"\"\"{ai_answer}\n",
    "\n",
    "感謝您的來信，如有其他問題請隨時聯繫我們。\n",
    "\n",
    "此致\n",
    "致理客服團隊\n",
    "\n",
    "回覆時間:{date_str}\n",
    "\"\"\"\n",
    "\n",
    "    return formatted_reply\n",
    "\n",
    "format_email = RunnableLambda(format_email_reply)\n"
   ]
  },
  {
   "cell_type": "code",
   "execution_count": 67,
   "id": "40be7dc4",
   "metadata": {},
   "outputs": [],
   "source": [
    "chain = (prompt_template \n",
    "        | model\n",
    "        | StrOutputParser()\n",
    "        | format_email\n",
    ")"
   ]
  },
  {
   "cell_type": "code",
   "execution_count": 70,
   "id": "4bd3a6a9",
   "metadata": {},
   "outputs": [],
   "source": [
    "customer_email = \"\"\"您好:\n",
    "\n",
    "我最近購買了貴公司的產品，但是發現包裝有損壞，而且產品功能與說明書不符。\n",
    "請問可以退貨或換貨嗎？我已經購買一週了。\n",
    "\n",
    "期待您的回覆。\n",
    "\n",
    "\n",
    "王小明\"\"\""
   ]
  },
  {
   "cell_type": "code",
   "execution_count": 71,
   "id": "9e1bfc53",
   "metadata": {},
   "outputs": [
    {
     "name": "stdout",
     "output_type": "stream",
     "text": [
      "您好，王小明先生/女士：\n",
      "\n",
      "非常感謝您選擇我們的產品，也很抱歉聽到您收到的商品包裝有損壞且功能與說明書不符。為了讓您能盡快解決問題，我們將協助您辦理退貨或換貨。\n",
      "\n",
      "以下是您可以選擇的方案及相關流程：\n",
      "\n",
      "1. **退貨／換貨申請**  \n",
      "   - 請於此郵件回覆您選擇的方案（退貨或換貨）並附上包裝損壞的照片與商品功能不符的相關說明。  \n",
      "   - 需要時，我們會提供退貨／換貨單號，並安排退回或寄送新品給您。\n",
      "\n",
      "2. **退貨流程**  \n",
      "   - 您將收到一封包含退貨單號與回寄標籤的郵件。  \n",
      "   - 請將商品連同原包裝、附件、序列號等一併寄回，我們將在收到商品後的 3-5 個工作天內完成退款或換貨。\n",
      "\n",
      "3. **換貨流程**  \n",
      "   - 若您選擇換貨，我們會在收到損壞商品後的 3-5 個工作天內寄出新品。  \n",
      "   - 換貨時若有任何物流費用，我們將負擔。\n",
      "\n",
      "4. **退款方式**  \n",
      "   - 退款將以原支付方式退還。若您使用的是信用卡或支付寶，退款通常會在 7-10 個工作天內完成。\n",
      "\n",
      "若您對以上流程有任何疑問，或希望我們直接為您安排物流，請隨時告知，我們將全力協助。\n",
      "\n",
      "再次對此不便深表歉意，期待能盡快為您解決問題，讓您重新體驗到我們產品的品質與服務。\n",
      "\n",
      "感謝您的來信，如有其他問題請隨時聯繫我們。\n",
      "\n",
      "此致\n",
      "致理客服團隊\n",
      "\n",
      "回覆時間:中華民國,西元2025-10-18 14:48\n",
      "\n"
     ]
    }
   ],
   "source": [
    "result = chain.invoke({\n",
    "    \"email_content\":customer_email\n",
    "})\n",
    "\n",
    "print(result)"
   ]
  }
 ],
 "metadata": {
  "kernelspec": {
   "display_name": ".venv",
   "language": "python",
   "name": "python3"
  },
  "language_info": {
   "codemirror_mode": {
    "name": "ipython",
    "version": 3
   },
   "file_extension": ".py",
   "mimetype": "text/x-python",
   "name": "python",
   "nbconvert_exporter": "python",
   "pygments_lexer": "ipython3",
   "version": "3.10.18"
  }
 },
 "nbformat": 4,
 "nbformat_minor": 5
}
