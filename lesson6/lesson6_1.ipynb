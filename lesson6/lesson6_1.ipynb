{
 "cells": [
  {
   "cell_type": "code",
   "execution_count": 5,
   "id": "00e72fd1",
   "metadata": {},
   "outputs": [
    {
     "name": "stdout",
     "output_type": "stream",
     "text": [
      "Python 是一種高效的、易用的 programming 语言，尤其是為了 web Development、Data Analysis 和 Machine Learning 等領域而設計。以下是一些關於 Python 的基本信息：\n",
      "\n",
      "### 成語和特點\n",
      "\n",
      "*   **易學**: Python 的語法簡單，且有大量的文檔，故而很容易上手。\n",
      "*   **高效**: Python 的動作速度非常快，尤其是在 web Development、Data Analysis 和 Machine Learning 等領域。\n",
      "*   **多用途**: Python 可以用於許多領域，如 web Development、Game Development、Scientific Computing、Machine Learning 和 Data Analysis 等。\n",
      "\n",
      "### 使用情況\n",
      "\n",
      "*   **web Development**: Django 和 Flask 是 Python 的兩個最為人熟知的 web Framework。\n",
      "*   **Data Analysis and Science**: Pandas、NumPy 和 Matplotlib 是用於數據分析和科學計算的三大 library。\n",
      "*   **Machine Learning**: Scikit-learn 是用於機器視覺和自然語言處理的 library。\n",
      "\n",
      "### 例子\n",
      "\n",
      "*   **Hello World**：\n",
      "    ```\n",
      "python\n",
      "# hello.py\n",
      "print(\"Hello, World!\")\n",
      "```\n",
      "\n",
      "    在 Python 命令行中，使用以下命令執行：\n",
      "    ```bash\n",
      "python hello.py\n",
      "```\n",
      "    then you will see \"Hello, World!\" printed on the screen.\n",
      "\n",
      "### 安裝和環境\n",
      "\n",
      "*   **安裝 Python**: download [Python](https://www.python.org/downloads/) from official website.\n",
      "*   **安裝 pip**：pip 是用於安裝依賴 packages 的 tool。\n",
      "*   **安裝 virtual environment**：如果您想使用多個 projects concurrently，則需要安裝 virtual environment。\n",
      "\n",
      "### 對待的建議\n",
      "\n",
      "*   **開始學習**: 先研究 Python 基本語法和 syntax。\n",
      "*   **練習和實踐**: 將自己寫一些小型程序來練習和實踐。\n",
      "*   **參考文檔**：許多 Python library 和 framework 都有完整的文檔和 document。\n",
      "*   **與社群交流**：參加一些 Python community 或 discussion board 以進一步學習和交流。\n"
     ]
    }
   ],
   "source": [
    "from langchain.prompts import ChatPromptTemplate\n",
    "from langchain_ollama.llms import OllamaLLM\n",
    "from langchain.schema.output_parser import StrOutputParser\n",
    "\n",
    "prompt = ChatPromptTemplate.from_template(\"請介紹{topic}\")\n",
    "model = OllamaLLM(model=\"llama3.2:latest\")\n",
    "output_parser = StrOutputParser()\n",
    "\n",
    "# 使用LCEL語法建立鏈\n",
    "\n",
    "chain = (prompt \n",
    "           | model \n",
    "           | output_parser)\n",
    "\n",
    "print(chain.invoke({\"topic\":\"python\"}))"
   ]
  },
  {
   "cell_type": "code",
   "execution_count": 17,
   "id": "3daecc09",
   "metadata": {},
   "outputs": [],
   "source": [
    "def upgrade_level1(name:str) -> str:\n",
    "    result = f\"\"\"{name}\n",
    "等級1\"\"\"\n",
    "    return result\n",
    "\n",
    "def upgrade_level2(input_str) -> str:\n",
    "    result = f\"\"\"{input_str}\n",
    "等級2\"\"\"\n",
    "    return result\n",
    "\n",
    "def upgrade_level3(input_str) -> str:\n",
    "    result = f\"\"\"{input_str}\n",
    "等級3\"\"\"\n",
    "    return result\n"
   ]
  },
  {
   "cell_type": "code",
   "execution_count": 18,
   "id": "688faac4",
   "metadata": {},
   "outputs": [
    {
     "name": "stdout",
     "output_type": "stream",
     "text": [
      "徐國堂\n",
      "等級1\n",
      "等級2\n",
      "等級3\n"
     ]
    }
   ],
   "source": [
    "total = upgrade_level3(upgrade_level2(upgrade_level1(name=\"徐國堂\")))\n",
    "print(total)"
   ]
  }
 ],
 "metadata": {
  "kernelspec": {
   "display_name": ".venv",
   "language": "python",
   "name": "python3"
  },
  "language_info": {
   "codemirror_mode": {
    "name": "ipython",
    "version": 3
   },
   "file_extension": ".py",
   "mimetype": "text/x-python",
   "name": "python",
   "nbconvert_exporter": "python",
   "pygments_lexer": "ipython3",
   "version": "3.10.18"
  }
 },
 "nbformat": 4,
 "nbformat_minor": 5
}
