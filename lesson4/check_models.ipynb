{
  "cells": [
    {
      "cell_type": "markdown",
      "metadata": {},
      "source": [
        "# 查看 Ollama 已安裝的模型\n",
        "\n",
        "這個 Notebook 示範如何查看 Ollama 安裝了哪些模型\n"
      ]
    },
    {
      "cell_type": "code",
      "execution_count": null,
      "metadata": {},
      "outputs": [],
      "source": [
        "import requests\n",
        "import json\n",
        "from datetime import datetime\n"
      ]
    },
    {
      "cell_type": "code",
      "execution_count": null,
      "metadata": {},
      "outputs": [],
      "source": [
        "def list_ollama_models():\n",
        "    \"\"\"查看 Ollama 已安裝的模型\"\"\"\n",
        "    try:\n",
        "        # 向 Ollama API 發送請求\n",
        "        response = requests.get(\"http://localhost:11434/api/tags\")\n",
        "        response.raise_for_status()\n",
        "        \n",
        "        data = response.json()\n",
        "        models = data.get(\"models\", [])\n",
        "        \n",
        "        if not models:\n",
        "            print(\"❌ 沒有找到任何已安裝的模型\")\n",
        "            return\n",
        "        \n",
        "        print(\"📋 Ollama 已安裝的模型：\")\n",
        "        print(\"=\" * 50)\n",
        "        \n",
        "        for model in models:\n",
        "            name = model.get(\"name\", \"未知\")\n",
        "            size = model.get(\"size\", 0)\n",
        "            modified_at = model.get(\"modified_at\", \"未知\")\n",
        "            \n",
        "            # 轉換大小為可讀格式\n",
        "            size_mb = size / (1024 * 1024)\n",
        "            if size_mb > 1024:\n",
        "                size_str = f\"{size_mb/1024:.1f} GB\"\n",
        "            else:\n",
        "                size_str = f\"{size_mb:.1f} MB\"\n",
        "            \n",
        "            print(f\"🔹 模型名稱: {name}\")\n",
        "            print(f\"   大小: {size_str}\")\n",
        "            print(f\"   修改時間: {modified_at}\")\n",
        "            print(\"-\" * 30)\n",
        "            \n",
        "    except requests.exceptions.ConnectionError:\n",
        "        print(\"❌ 無法連接到 Ollama 服務\")\n",
        "        print(\"請確認 Ollama 是否正在運行 (ollama serve)\")\n",
        "    except Exception as e:\n",
        "        print(f\"❌ 發生錯誤: {e}\")\n"
      ]
    },
    {
      "cell_type": "code",
      "execution_count": 1,
      "metadata": {},
      "outputs": [
        {
          "ename": "NameError",
          "evalue": "name 'list_ollama_models' is not defined",
          "output_type": "error",
          "traceback": [
            "\u001b[1;31m---------------------------------------------------------------------------\u001b[0m",
            "\u001b[1;31mNameError\u001b[0m                                 Traceback (most recent call last)",
            "Cell \u001b[1;32mIn[1], line 2\u001b[0m\n\u001b[0;32m      1\u001b[0m \u001b[38;5;66;03m# 執行查看模型\u001b[39;00m\n\u001b[1;32m----> 2\u001b[0m \u001b[43mlist_ollama_models\u001b[49m()\n",
            "\u001b[1;31mNameError\u001b[0m: name 'list_ollama_models' is not defined"
          ]
        }
      ],
      "source": [
        "# 執行查看模型\n",
        "list_ollama_models()\n"
      ]
    },
    {
      "cell_type": "markdown",
      "metadata": {},
      "source": [
        "## 其他有用的 Ollama 指令\n",
        "\n",
        "### 1. 安裝新模型\n",
        "```bash\n",
        "ollama pull llama2\n",
        "ollama pull gemma2:2b\n",
        "ollama pull mistral\n",
        "```\n",
        "\n",
        "### 2. 刪除模型\n",
        "```bash\n",
        "ollama rm 模型名稱\n",
        "```\n",
        "\n",
        "### 3. 查看模型詳細資訊\n",
        "```bash\n",
        "ollama show 模型名稱\n",
        "```\n",
        "\n",
        "### 4. 啟動 Ollama 服務\n",
        "```bash\n",
        "ollama serve\n",
        "```\n"
      ]
    }
  ],
  "metadata": {
    "kernelspec": {
      "display_name": ".venv",
      "language": "python",
      "name": "python3"
    },
    "language_info": {
      "codemirror_mode": {
        "name": "ipython",
        "version": 3
      },
      "file_extension": ".py",
      "mimetype": "text/x-python",
      "name": "python",
      "nbconvert_exporter": "python",
      "pygments_lexer": "ipython3",
      "version": "3.10.18"
    }
  },
  "nbformat": 4,
  "nbformat_minor": 2
}
