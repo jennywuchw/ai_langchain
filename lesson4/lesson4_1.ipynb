{
 "cells": [
  {
   "cell_type": "code",
   "execution_count": 2,
   "id": "0540c9fc",
   "metadata": {},
   "outputs": [
    {
     "name": "stdout",
     "output_type": "stream",
     "text": [
      "<class 'langchain_core.messages.ai.AIMessage'>\n",
      "所有答案\n",
      "content='81除以9等于9。\\n\\n81 / 9 = 9\\n' additional_kwargs={} response_metadata={'model': 'gemma3:1b', 'created_at': '2025-09-20T06:38:06.6299609Z', 'done': True, 'done_reason': 'stop', 'total_duration': 1291200500, 'load_duration': 813395500, 'prompt_eval_count': 18, 'prompt_eval_duration': 115199300, 'eval_count': 19, 'eval_duration': 362015800, 'model_name': 'gemma3:1b'} id='run--3d681ae9-1e21-4b50-87bc-974b06c93dbf-0' usage_metadata={'input_tokens': 18, 'output_tokens': 19, 'total_tokens': 37}\n",
      "回答內容是\n",
      "81除以9等于9。\n",
      "\n",
      "81 / 9 = 9\n",
      "\n"
     ]
    }
   ],
   "source": [
    "from langchain_ollama import ChatOllama\n",
    "\n",
    "\n",
    "# Create a ChatOllama model\n",
    "# 透過網址的方式連結ollama (指定 base_url 指向 Ollama server)\n",
    "# 預設 Ollama server 在本機的 11434 埠，若在其他主機或埠請改成相對應的網址\n",
    "\n",
    "#model = ChatOllama(model=\"llama3.2:latest\", base_url=\"http://host.docker.internal:11434\")\n",
    "model = ChatOllama(model=\"gemma3:1b\",base_url=\"http://localhost:11434\")\n",
    "\n",
    "\n",
    "# Invoke the model with a message\n",
    "result = model.invoke(\"81除以9的答案是?\")\n",
    "print(type(result))\n",
    "print(\"所有答案\")\n",
    "print(result)\n",
    "print(\"回答內容是\")\n",
    "print(result.content)"
   ]
  },
  {
   "cell_type": "markdown",
   "id": "a094b603",
   "metadata": {},
   "source": [
    "### google-gemini"
   ]
  },
  {
   "cell_type": "code",
   "execution_count": 12,
   "id": "52de66ce",
   "metadata": {},
   "outputs": [
    {
     "name": "stdout",
     "output_type": "stream",
     "text": [
      "Type: <class 'langchain_core.messages.ai.AIMessage'>\n",
      "所有答案\n",
      "content='黃刀鎮（Yellowknife）是全球觀賞北極光（Aurora Borealis）的最佳地點之一，其出現機率非常高，但並非100%。以下為詳細分析：\\n\\n### 黃刀鎮極光出現機率高的原因：\\n\\n1.  **地理位置優越：** 黃刀鎮位於北緯62度，正好坐落在「北極光橢圓帶」（Auroral Oval）下方。這個區域是地球磁場將太陽風粒子引導至大氣層，產生極光最頻繁、最活躍的地方。\\n2.  **緯度高：** 高緯度地區意味著更容易看到極光。\\n3.  **光害少：** 黃刀鎮是個相對較小的城市，遠離大城市的光害，周邊地區更是漆黑一片，為觀測極光提供了絕佳條件。\\n4.  **氣候乾燥、晴朗天數多：** 黃刀鎮位於內陸地區，屬於亞寒帶濕潤氣候，但其內陸位置使其雲層覆蓋率相對較低，尤其在冬季，晴朗無雲的夜晚較多，這對於觀賞極光至關重要，因為極光需要晴朗的天空才能被看見。\\n5.  **地勢平坦：** 周圍地勢開闊平坦，沒有高山阻擋視線，視野極佳。\\n\\n### 極光出現機率的關鍵因素：\\n\\n雖然黃刀鎮的條件優越，但極光能否被看到仍受以下因素影響：\\n\\n1.  **季節：**\\n    *   **最佳觀測時間：** 通常是從**8月中旬到次年4月中旬**。這段時間夜晚夠長，天氣也相對穩定。\\n    *   **夏季（5月至7月）：** 不適合觀測，因為白晝時間長，甚至會出現永晝現象，天空不夠黑。\\n    *   **秋冬季（9月、10月、3月）** 是最受歡迎的月份，氣溫相對沒那麼極端，且極光活動頻繁。\\n\\n2.  **天氣狀況：**\\n    *   **晴朗無雲的夜晚** 是看到極光的先決條件。即使極光活動非常活躍，如果天空被厚厚的雲層覆蓋，也無法看到。\\n    *   黃刀鎮的乾燥氣候使其晴天機率高於許多其他極光觀測地。\\n\\n3.  **太陽活動（KP指數）：**\\n    *   KP指數是衡量地磁活動強度的指標，從0到9。KP值越高，極光活動越活躍，可見範圍也越大。\\n    *   通常，KP指數達到2或3就有機會看到極光；達到4或5以上，極光會非常活躍，色彩鮮豔，舞動壯觀。\\n    *   目前地球正處於太陽活動活躍期，未來幾年（直到2025年左右）極光會更頻繁和強烈。\\n\\n4.  **停留天數：**\\n    *   這是影響「個人」看到極光機率最重要的因素。\\n    *   **當地旅遊業者常宣稱：若在黃刀鎮停留至少3個晚上，看到極光的機率高達90%至95%。** 這是一個基於經驗和統計的估計，因為即使某個晚上天氣不佳或太陽活動較弱，多幾晚的機會可以彌補。\\n    *   **建議：** 安排至少**3到4個晚上**的行程，以最大化觀賞機會。\\n\\n### 總結：\\n\\n黃刀鎮是觀賞北極光的**絕佳選擇**。雖然沒有任何地方能保證100%看到極光，但黃刀鎮因其得天獨厚的地理位置和氣候條件，讓您成功看到極光的機率非常非常高。\\n\\n只要您選擇在**8月中旬至4月中旬**之間前往，並**停留至少3個晚上**，同時留意天氣預報和極光預測，您的極光之旅成功機率將是世界頂級的！' additional_kwargs={} response_metadata={'prompt_feedback': {'block_reason': 0, 'safety_ratings': []}, 'finish_reason': 'STOP', 'model_name': 'gemini-2.5-flash', 'safety_ratings': []} id='run--76fc6fba-ad19-4cac-909e-c83048dda9c4-0' usage_metadata={'input_tokens': 10, 'output_tokens': 2235, 'total_tokens': 2245, 'input_token_details': {'cache_read': 0}, 'output_token_details': {'reasoning': 1332}}\n",
      "\n",
      "回答內容是\n",
      "黃刀鎮（Yellowknife）是全球觀賞北極光（Aurora Borealis）的最佳地點之一，其出現機率非常高，但並非100%。以下為詳細分析：\n",
      "\n",
      "### 黃刀鎮極光出現機率高的原因：\n",
      "\n",
      "1.  **地理位置優越：** 黃刀鎮位於北緯62度，正好坐落在「北極光橢圓帶」（Auroral Oval）下方。這個區域是地球磁場將太陽風粒子引導至大氣層，產生極光最頻繁、最活躍的地方。\n",
      "2.  **緯度高：** 高緯度地區意味著更容易看到極光。\n",
      "3.  **光害少：** 黃刀鎮是個相對較小的城市，遠離大城市的光害，周邊地區更是漆黑一片，為觀測極光提供了絕佳條件。\n",
      "4.  **氣候乾燥、晴朗天數多：** 黃刀鎮位於內陸地區，屬於亞寒帶濕潤氣候，但其內陸位置使其雲層覆蓋率相對較低，尤其在冬季，晴朗無雲的夜晚較多，這對於觀賞極光至關重要，因為極光需要晴朗的天空才能被看見。\n",
      "5.  **地勢平坦：** 周圍地勢開闊平坦，沒有高山阻擋視線，視野極佳。\n",
      "\n",
      "### 極光出現機率的關鍵因素：\n",
      "\n",
      "雖然黃刀鎮的條件優越，但極光能否被看到仍受以下因素影響：\n",
      "\n",
      "1.  **季節：**\n",
      "    *   **最佳觀測時間：** 通常是從**8月中旬到次年4月中旬**。這段時間夜晚夠長，天氣也相對穩定。\n",
      "    *   **夏季（5月至7月）：** 不適合觀測，因為白晝時間長，甚至會出現永晝現象，天空不夠黑。\n",
      "    *   **秋冬季（9月、10月、3月）** 是最受歡迎的月份，氣溫相對沒那麼極端，且極光活動頻繁。\n",
      "\n",
      "2.  **天氣狀況：**\n",
      "    *   **晴朗無雲的夜晚** 是看到極光的先決條件。即使極光活動非常活躍，如果天空被厚厚的雲層覆蓋，也無法看到。\n",
      "    *   黃刀鎮的乾燥氣候使其晴天機率高於許多其他極光觀測地。\n",
      "\n",
      "3.  **太陽活動（KP指數）：**\n",
      "    *   KP指數是衡量地磁活動強度的指標，從0到9。KP值越高，極光活動越活躍，可見範圍也越大。\n",
      "    *   通常，KP指數達到2或3就有機會看到極光；達到4或5以上，極光會非常活躍，色彩鮮豔，舞動壯觀。\n",
      "    *   目前地球正處於太陽活動活躍期，未來幾年（直到2025年左右）極光會更頻繁和強烈。\n",
      "\n",
      "4.  **停留天數：**\n",
      "    *   這是影響「個人」看到極光機率最重要的因素。\n",
      "    *   **當地旅遊業者常宣稱：若在黃刀鎮停留至少3個晚上，看到極光的機率高達90%至95%。** 這是一個基於經驗和統計的估計，因為即使某個晚上天氣不佳或太陽活動較弱，多幾晚的機會可以彌補。\n",
      "    *   **建議：** 安排至少**3到4個晚上**的行程，以最大化觀賞機會。\n",
      "\n",
      "### 總結：\n",
      "\n",
      "黃刀鎮是觀賞北極光的**絕佳選擇**。雖然沒有任何地方能保證100%看到極光，但黃刀鎮因其得天獨厚的地理位置和氣候條件，讓您成功看到極光的機率非常非常高。\n",
      "\n",
      "只要您選擇在**8月中旬至4月中旬**之間前往，並**停留至少3個晚上**，同時留意天氣預報和極光預測，您的極光之旅成功機率將是世界頂級的！\n"
     ]
    }
   ],
   "source": [
    "from dotenv import load_dotenv  # pyright: ignore[reportMissingImports]\n",
    "from langchain_google_genai import ChatGoogleGenerativeAI  # pyright: ignore[reportMissingImports]\n",
    "\n",
    "# Load environment variables from .env\n",
    "load_dotenv()\n",
    "\n",
    "# Create a ChatGoogleGenerativeAI model\n",
    "model = ChatGoogleGenerativeAI(model=\"gemini-2.5-flash\")\n",
    "\n",
    "#Invoke the model with a message\n",
    "result = model.invoke(\"黃刀鎮極光出現的機率\")\n",
    "print(\"Type:\", type(result))\n",
    "\n",
    "print(\"所有答案\")\n",
    "print(result)\n",
    "print()  # 加一行空白行\n",
    "\n",
    "\n",
    "print(\"回答內容是\")\n",
    "print(result.content)"
   ]
  },
  {
   "cell_type": "markdown",
   "id": "a1fd6105",
   "metadata": {},
   "source": [
    "### Google Gemini\n"
   ]
  },
  {
   "cell_type": "code",
   "execution_count": 14,
   "id": "1d767906",
   "metadata": {},
   "outputs": [
    {
     "name": "stdout",
     "output_type": "stream",
     "text": [
      "<class 'langchain_google_genai.chat_models.ChatGoogleGenerativeAI'>\n",
      "<class 'langchain_core.messages.ai.AIMessage'>\n",
      "所有答案\n",
      "回答內容是\n",
      "好的，這是一首關於秋天的五言絕句：\n",
      "\n",
      "**秋** 風起葉黃，\n",
      "**籬** 菊帶清霜。\n",
      "**長** 空雁字斜，\n",
      "**萬** 里思故鄉。\n"
     ]
    }
   ],
   "source": [
    "from dotenv import load_dotenv\n",
    "from langchain_google_genai import ChatGoogleGenerativeAI\n",
    "\n",
    "# Load environment variables from .env\n",
    "load_dotenv()\n",
    "\n",
    "# Create a ChatGoogleGenerativeAI model\n",
    "model = ChatGoogleGenerativeAI(model=\"gemini-2.5-flash\",temperature=1)\n",
    "print(type(model))\n",
    "\n",
    "#Invoke the model with a message\n",
    "result = model.invoke(\"請用中文寫一首關於秋天的五言絕句詩\")\n",
    "print(type(result))\n",
    "print(\"所有答案\")\n",
    "#json_data = result.to_json()\n",
    "#print(json_data[\"kwargs\"][\"content\"])\n",
    "print(\"回答內容是\")\n",
    "print(result.content)"
   ]
  }
 ],
 "metadata": {
  "kernelspec": {
   "display_name": ".venv",
   "language": "python",
   "name": "python3"
  },
  "language_info": {
   "codemirror_mode": {
    "name": "ipython",
    "version": 3
   },
   "file_extension": ".py",
   "mimetype": "text/x-python",
   "name": "python",
   "nbconvert_exporter": "python",
   "pygments_lexer": "ipython3",
   "version": "3.10.18"
  }
 },
 "nbformat": 4,
 "nbformat_minor": 5
}
