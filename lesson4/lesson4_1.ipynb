{
 "cells": [
  {
   "cell_type": "code",
   "execution_count": 2,
   "id": "0540c9fc",
   "metadata": {},
   "outputs": [
    {
     "name": "stdout",
     "output_type": "stream",
     "text": [
      "<class 'langchain_core.messages.ai.AIMessage'>\n",
      "所有答案\n",
      "content='81除以9等于9。\\n\\n81 / 9 = 9\\n' additional_kwargs={} response_metadata={'model': 'gemma3:1b', 'created_at': '2025-09-20T06:38:06.6299609Z', 'done': True, 'done_reason': 'stop', 'total_duration': 1291200500, 'load_duration': 813395500, 'prompt_eval_count': 18, 'prompt_eval_duration': 115199300, 'eval_count': 19, 'eval_duration': 362015800, 'model_name': 'gemma3:1b'} id='run--3d681ae9-1e21-4b50-87bc-974b06c93dbf-0' usage_metadata={'input_tokens': 18, 'output_tokens': 19, 'total_tokens': 37}\n",
      "回答內容是\n",
      "81除以9等于9。\n",
      "\n",
      "81 / 9 = 9\n",
      "\n"
     ]
    }
   ],
   "source": [
    "from langchain_ollama import ChatOllama\n",
    "\n",
    "\n",
    "# Create a ChatOllama model\n",
    "# 透過網址的方式連結ollama (指定 base_url 指向 Ollama server)\n",
    "# 預設 Ollama server 在本機的 11434 埠，若在其他主機或埠請改成相對應的網址\n",
    "\n",
    "#model = ChatOllama(model=\"llama3.2:latest\", base_url=\"http://host.docker.internal:11434\")\n",
    "model = ChatOllama(model=\"gemma3:1b\",base_url=\"http://localhost:11434\")\n",
    "\n",
    "\n",
    "# Invoke the model with a message\n",
    "result = model.invoke(\"81除以9的答案是?\")\n",
    "print(type(result))\n",
    "print(\"所有答案\")\n",
    "print(result)\n",
    "print(\"回答內容是\")\n",
    "print(result.content)"
   ]
  },
  {
   "cell_type": "markdown",
   "id": "a094b603",
   "metadata": {},
   "source": [
    "### google-gemini"
   ]
  },
  {
   "cell_type": "code",
   "execution_count": 9,
   "id": "52de66ce",
   "metadata": {},
   "outputs": [
    {
     "name": "stdout",
     "output_type": "stream",
     "text": [
      "<class 'langchain_core.messages.ai.AIMessage'>\n",
      "所有答案\n",
      "content='黃刀鎮（Yellowknife）被譽為「世界極光之都」，是全球觀賞北極光的最佳地點之一。因此，在正確的季節和條件下，極光出現的機率是極高的。\\n\\n**綜合來說，在黃刀鎮停留3個晚上，看到極光的機率普遍被認為高達 80% 到 90% 以上。**\\n\\n以下是影響極光出現機率的關鍵因素：\\n\\n1.  **地理位置 (最重要因素)：**\\n    *   黃刀鎮位於「極光橢圓區」下方，這是地球上極光最活躍的區域。這意味著即使太陽活動較弱，在黃刀鎮上空也更容易看到極光。\\n\\n2.  **觀賞季節：**\\n    *   **最佳觀賞季節：**\\n        *   **秋季 (8月中旬至10月初)：** 天氣相對溫暖，湖面未結冰，有機會看到極光倒影。這段時間的雲量通常較少。\\n        *   **冬季 (11月中旬至4月中旬)：** 夜晚漫長，氣溫極低（可達-20°C至-40°C），但寒冷的空氣通常乾燥，雲層較少，能見度極佳。\\n    *   **不適合觀賞季節：** 5月至7月，因為是永晝期間，白天太長，天空不夠黑。\\n\\n3.  **停留時間：**\\n    *   這是提高機率最直接的方法。\\n    *   **1晚：** 機率較低，因為天氣和太陽活動難以預測。\\n    *   **2晚：** 機率顯著提高。\\n    *   **3晚或以上：** 最能達到80-90%的機率，因為它能讓您有足夠的時間來應對可能的天氣變化或太陽活動的波動。\\n\\n4.  **天氣狀況：**\\n    *   **晴朗無雲是關鍵！** 即使極光活動再強，如果天空被厚厚的雲層遮蔽，也無法看到。\\n    *   黃刀鎮的氣候相對乾燥，多數時候天空晴朗，這也是其優勢之一。\\n\\n5.  **太陽活動 (Kp 指數)：**\\n    *   Kp 指數是衡量地磁活動的指標。數字越高，代表極光越強、越活躍，可見範圍也越廣。\\n    *   在黃刀鎮，即使 Kp 指數只有 1 或 2（較弱的活動），只要天氣晴朗，也可能看到頭頂上方的極光。而 Kp 指數達到 3 或以上，通常能看到更壯觀的極光。\\n    *   太陽活動有週期性，但短期預測（幾天內）是可行的。\\n\\n6.  **光害：**\\n    *   黃刀鎮本身光害不大，但通常會建議參加極光團或自駕到鎮外更黑暗的區域觀賞，效果更佳。\\n\\n**總結與建議：**\\n\\n如果您計劃前往黃刀鎮觀賞極光，為了最大化成功機率，建議您：\\n\\n*   **選擇在最佳觀賞季節前往 (秋季或冬季)。**\\n*   **至少安排 3 個晚上的停留時間。**\\n*   **出發前密切關注天氣預報和極光預報 (Kp 指數)。**\\n*   **預訂當地極光團，他們有經驗豐富的導遊和舒適的觀賞設施，並會根據天氣情況帶您到最佳觀賞點。**\\n\\n憑藉黃刀鎮得天獨厚的地理位置和相對穩定的氣候，只要您安排得當，看到極光，甚至是「大爆發」極光的機會是非常非常高的！' additional_kwargs={} response_metadata={'prompt_feedback': {'block_reason': 0, 'safety_ratings': []}, 'finish_reason': 'STOP', 'model_name': 'gemini-2.5-flash', 'safety_ratings': []} id='run--f7291f47-7525-4274-a864-06c56f29b412-0' usage_metadata={'input_tokens': 10, 'output_tokens': 1966, 'total_tokens': 1976, 'input_token_details': {'cache_read': 0}, 'output_token_details': {'reasoning': 1125}}\n",
      "回答內容是\n",
      "黃刀鎮（Yellowknife）被譽為「世界極光之都」，是全球觀賞北極光的最佳地點之一。因此，在正確的季節和條件下，極光出現的機率是極高的。\n",
      "\n",
      "**綜合來說，在黃刀鎮停留3個晚上，看到極光的機率普遍被認為高達 80% 到 90% 以上。**\n",
      "\n",
      "以下是影響極光出現機率的關鍵因素：\n",
      "\n",
      "1.  **地理位置 (最重要因素)：**\n",
      "    *   黃刀鎮位於「極光橢圓區」下方，這是地球上極光最活躍的區域。這意味著即使太陽活動較弱，在黃刀鎮上空也更容易看到極光。\n",
      "\n",
      "2.  **觀賞季節：**\n",
      "    *   **最佳觀賞季節：**\n",
      "        *   **秋季 (8月中旬至10月初)：** 天氣相對溫暖，湖面未結冰，有機會看到極光倒影。這段時間的雲量通常較少。\n",
      "        *   **冬季 (11月中旬至4月中旬)：** 夜晚漫長，氣溫極低（可達-20°C至-40°C），但寒冷的空氣通常乾燥，雲層較少，能見度極佳。\n",
      "    *   **不適合觀賞季節：** 5月至7月，因為是永晝期間，白天太長，天空不夠黑。\n",
      "\n",
      "3.  **停留時間：**\n",
      "    *   這是提高機率最直接的方法。\n",
      "    *   **1晚：** 機率較低，因為天氣和太陽活動難以預測。\n",
      "    *   **2晚：** 機率顯著提高。\n",
      "    *   **3晚或以上：** 最能達到80-90%的機率，因為它能讓您有足夠的時間來應對可能的天氣變化或太陽活動的波動。\n",
      "\n",
      "4.  **天氣狀況：**\n",
      "    *   **晴朗無雲是關鍵！** 即使極光活動再強，如果天空被厚厚的雲層遮蔽，也無法看到。\n",
      "    *   黃刀鎮的氣候相對乾燥，多數時候天空晴朗，這也是其優勢之一。\n",
      "\n",
      "5.  **太陽活動 (Kp 指數)：**\n",
      "    *   Kp 指數是衡量地磁活動的指標。數字越高，代表極光越強、越活躍，可見範圍也越廣。\n",
      "    *   在黃刀鎮，即使 Kp 指數只有 1 或 2（較弱的活動），只要天氣晴朗，也可能看到頭頂上方的極光。而 Kp 指數達到 3 或以上，通常能看到更壯觀的極光。\n",
      "    *   太陽活動有週期性，但短期預測（幾天內）是可行的。\n",
      "\n",
      "6.  **光害：**\n",
      "    *   黃刀鎮本身光害不大，但通常會建議參加極光團或自駕到鎮外更黑暗的區域觀賞，效果更佳。\n",
      "\n",
      "**總結與建議：**\n",
      "\n",
      "如果您計劃前往黃刀鎮觀賞極光，為了最大化成功機率，建議您：\n",
      "\n",
      "*   **選擇在最佳觀賞季節前往 (秋季或冬季)。**\n",
      "*   **至少安排 3 個晚上的停留時間。**\n",
      "*   **出發前密切關注天氣預報和極光預報 (Kp 指數)。**\n",
      "*   **預訂當地極光團，他們有經驗豐富的導遊和舒適的觀賞設施，並會根據天氣情況帶您到最佳觀賞點。**\n",
      "\n",
      "憑藉黃刀鎮得天獨厚的地理位置和相對穩定的氣候，只要您安排得當，看到極光，甚至是「大爆發」極光的機會是非常非常高的！\n"
     ]
    }
   ],
   "source": [
    "from dotenv import load_dotenv  # pyright: ignore[reportMissingImports]\n",
    "from langchain_google_genai import ChatGoogleGenerativeAI  # pyright: ignore[reportMissingImports]\n",
    "\n",
    "# Load environment variables from .env\n",
    "load_dotenv()\n",
    "\n",
    "# Create a ChatGoogleGenerativeAI model\n",
    "model = ChatGoogleGenerativeAI(model=\"gemini-2.5-flash\")\n",
    "\n",
    "#Invoke the model with a message\n",
    "result = model.invoke(\"黃刀鎮極光出現的機率\")\n",
    "print(type(result))\n",
    "print(\"所有答案\")\n",
    "print(result)\n",
    "print(\"回答內容是\")\n",
    "print(result.content)"
   ]
  }
 ],
 "metadata": {
  "kernelspec": {
   "display_name": ".venv",
   "language": "python",
   "name": "python3"
  },
  "language_info": {
   "codemirror_mode": {
    "name": "ipython",
    "version": 3
   },
   "file_extension": ".py",
   "mimetype": "text/x-python",
   "name": "python",
   "nbconvert_exporter": "python",
   "pygments_lexer": "ipython3",
   "version": "3.10.18"
  }
 },
 "nbformat": 4,
 "nbformat_minor": 5
}
